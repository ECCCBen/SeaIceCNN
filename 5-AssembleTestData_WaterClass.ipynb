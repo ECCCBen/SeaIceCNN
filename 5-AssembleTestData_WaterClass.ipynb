{
 "cells": [
  {
   "cell_type": "markdown",
   "metadata": {},
   "source": [
    "# Read all the files in \"ice\" subfolder and creates a huge 4D numpy array to test the CNN model"
   ]
  },
  {
   "cell_type": "code",
   "execution_count": 1,
   "metadata": {},
   "outputs": [
    {
     "name": "stdout",
     "output_type": "stream",
     "text": [
      "There are 537 files to filter...\n"
     ]
    }
   ],
   "source": [
    "from os import listdir\n",
    "\n",
    "#Initiating the input directory\n",
    "indir = r'Data\\water'\n",
    "\n",
    "#Finding all the processed geotiffs in the input directory\n",
    "files = [f for f in listdir(indir) if f.startswith('S0_RS2') and f.endswith('.tif')]\n",
    "\n",
    "#Prints out the number of files to filter\n",
    "print('There are ' + str(len(files)) + ' files to filter...')"
   ]
  },
  {
   "cell_type": "code",
   "execution_count": 2,
   "metadata": {},
   "outputs": [],
   "source": [
    "import numpy as np\n",
    "\n",
    "#Function to resample the different bands into N x N subsamples\n",
    "def resamp(arr, N):\n",
    "    A = []\n",
    "    for v in np.vsplit(arr, arr.shape[0] // N):\n",
    "        A.extend([*np.hsplit(v, arr.shape[1] // N)])\n",
    "    return np.array(A)"
   ]
  },
  {
   "cell_type": "code",
   "execution_count": 3,
   "metadata": {
    "scrolled": true
   },
   "outputs": [
    {
     "name": "stdout",
     "output_type": "stream",
     "text": [
      "Adding S0_RS2_OK111661_PK976652_DK914274_SCWA_20190812_001947_HH_HV_SGF.tif to the ice training data array\n",
      "Adding S0_RS2_OK111662_PK976675_DK914314_SCWA_20190812_135722_HH_HV_SGF.tif to the ice training data array\n",
      "Adding S0_RS2_OK112067_PK980258_DK917672_SCWA_20190813_132916_HH_HV_SGF.tif to the ice training data array\n",
      "Adding S0_RS2_OK112068_PK980289_DK917703_SCWA_20190814_143907_HH_HV_SGF.tif to the ice training data array\n",
      "Adding S0_RS2_OK112069_PK980530_DK917895_SCWA_20190815_140958_HH_HV_SGF.tif to the ice training data array\n",
      "Adding S0_RS2_OK112070_PK980588_DK917991_SCWA_20190816_134054_HH_HV_SGF.tif to the ice training data array\n",
      "Adding S0_RS2_OK112071_PK980756_DK918210_SCWA_20190818_004446_HH_HV_SGF.tif to the ice training data array\n",
      "Adding S0_RS2_OK112074_PK985382_DK923250_SCWA_20190819_135323_HH_HV_SGF.tif to the ice training data array\n",
      "Adding S0_RS2_OK112317_PK982907_DK920602_SCWA_20190820_132413_HH_HV_SGF.tif to the ice training data array\n",
      "Adding S0_RS2_OK112317_PK986061_DK923810_SCWA_20190821_005719_HH_HV_SGF.tif to the ice training data array\n",
      "Adding S0_RS2_OK112318_PK986091_DK923821_SCWA_20190821_143456_HH_HV_SGF.tif to the ice training data array\n",
      "Adding S0_RS2_OK112318_PK986092_DK923830_SCWA_20190822_002805_HH_HV_SGF.tif to the ice training data array\n",
      "Adding S0_RS2_OK112319_PK983308_DK920765_SCWA_20190822_140554_HH_HV_SGF.tif to the ice training data array\n",
      "Adding S0_RS2_OK112320_PK983334_DK920791_SCWA_20190823_133708_HH_HV_SGF.tif to the ice training data array\n",
      "Adding S0_RS2_OK112321_PK986459_DK924262_SCWA_20190825_004048_HH_HV_SGF.tif to the ice training data array\n",
      "Adding S0_RS2_OK112322_PK983424_DK920877_SCWA_20190825_141807_HH_HV_SGF.tif to the ice training data array\n",
      "Adding S0_RS2_OK112322_PK983472_DK920893_SCWA_20190826_001145_HH_HV_SGF.tif to the ice training data array\n",
      "Adding S0_RS2_OK112323_PK983489_DK920910_SCWA_20190826_134915_HH_HV_SGF.tif to the ice training data array\n",
      "Adding S0_RS2_OK112323_PK983503_DK920922_SCWA_20190827_012250_HH_HV_SGF.tif to the ice training data array\n",
      "Adding S0_RS2_OK112324_PK983520_DK920937_SCWA_20190827_132027_HH_HV_SGF.tif to the ice training data array\n",
      "Adding S0_RS2_OK112325_PK987575_DK926140_SCWA_20190828_143047_HH_HV_SGF.tif to the ice training data array\n",
      "Adding S0_RS2_OK112325_PK987578_DK926143_SCWA_20190829_002421_HH_HV_SGF.tif to the ice training data array\n",
      "Adding S0_RS2_OK112326_PK983581_DK920991_SCWA_20190829_140137_HH_HV_SGF.tif to the ice training data array\n",
      "Adding S0_RS2_OK112327_PK983639_DK921059_SCWA_20190830_133211_HH_HV_SGF.tif to the ice training data array\n",
      "Adding S0_RS2_OK112327_PK983640_DK921060_SCWA_20190830_133326_HH_HV_SGF.tif to the ice training data array\n",
      "Adding S0_RS2_OK112327_PK983665_DK921085_SCWA_20190831_010545_HH_HV_SGF.tif to the ice training data array\n",
      "Adding S0_RS2_OK112328_PK983677_DK921097_SCWA_20190831_144319_HH_HV_SGF.tif to the ice training data array\n",
      "Adding S0_RS2_OK112328_PK983695_DK921109_SCWA_20190901_003611_HH_HV_SGF.tif to the ice training data array\n",
      "Adding S0_RS2_OK112329_PK983727_DK921141_SCWA_20190902_000702_HH_HV_SGF.tif to the ice training data array\n",
      "Adding S0_RS2_OK112669_PK985021_DK922883_SCWA_20190905_002010_HH_HV_SGF.tif to the ice training data array\n",
      "Adding S0_RS2_OK112672_PK985078_DK922940_SCWA_20190907_143938_HH_HV_SGF.tif to the ice training data array\n",
      "Adding S0_RS2_OK112672_PK985100_DK922962_SCWA_20190908_003215_HH_HV_SGF.tif to the ice training data array\n",
      "Adding S0_RS2_OK112673_PK985113_DK922975_SCWA_20190908_141025_HH_HV_SGF.tif to the ice training data array\n",
      "Adding S0_RS2_OK112873_PK990689_DK929501_SCWA_20190912_135412_HH_HV_SGF.tif to the ice training data array\n",
      "Adding S0_RS2_OK112873_PK990690_DK929502_SCWA_20190913_012558_HH_HV_SGF.tif to the ice training data array\n",
      "Adding S0_RS2_OK112874_PK986885_DK924717_SCWA_20190914_005725_HH_HV_SGF.tif to the ice training data array\n",
      "Adding S0_RS2_OK112875_PK986886_DK924718_SCWA_20190914_143529_HH_HV_SGF.tif to the ice training data array\n",
      "Adding S0_RS2_OK112875_PK986905_DK924746_SCWA_20190915_002834_HH_HV_SGF.tif to the ice training data array\n",
      "Adding S0_RS2_OK112877_PK986956_DK924797_SCWA_20190916_133709_HH_HV_SGF.tif to the ice training data array\n",
      "Adding S0_RS2_OK113020_PK988585_DK927298_SCWA_20190918_141815_HH_HV_SGF.tif to the ice training data array\n",
      "Adding S0_RS2_OK113020_PK988596_DK927309_SCWA_20190919_001136_HH_HV_SGF.tif to the ice training data array\n",
      "Adding S0_RS2_OK113021_PK988637_DK927347_SCWA_20190919_134931_HH_HV_SGF.tif to the ice training data array\n",
      "Adding S0_RS2_OK113021_PK992642_DK930867_SCWA_20190920_012134_HH_HV_SGF.tif to the ice training data array\n",
      "Adding S0_RS2_OK113021_PK992642_DK930882_SCWA_20190920_012134_HH_HV_SGF.tif to the ice training data array\n",
      "Adding S0_RS2_OK113023_PK989271_DK927982_SCWA_20190921_143125_HH_HV_SGF.tif to the ice training data array\n",
      "Adding S0_RS2_OK113023_PK989282_DK927993_SCWA_20190922_002356_HH_HV_SGF.tif to the ice training data array\n",
      "Adding S0_RS2_OK113024_PK989303_DK928012_SCWA_20190922_140208_HH_HV_SGF.tif to the ice training data array\n",
      "Adding S0_RS2_OK113025_PK989334_DK928045_SCWA_20190923_133239_HH_HV_SGF.tif to the ice training data array\n",
      "Adding S0_RS2_OK113089_PK989421_DK928111_SCWA_20190924_144328_HH_HV_SGF.tif to the ice training data array\n",
      "Adding S0_RS2_OK113090_PK989450_DK928140_SCWA_20190925_141418_HH_HV_SGF.tif to the ice training data array\n",
      "Adding S0_RS2_OK113090_PK989461_DK928151_SCWA_20190926_000723_HH_HV_SGF.tif to the ice training data array\n",
      "Adding S0_RS2_OK113091_PK989490_DK928167_SCWA_20190926_134523_HH_HV_SGF.tif to the ice training data array\n",
      "Adding S0_RS2_OK113093_PK989582_DK928326_SCWA_20190928_142606_HH_HV_SGF.tif to the ice training data array\n",
      "Adding S0_RS2_OK113093_PK989583_DK928327_SCWA_20190928_142720_HH_HV_SGF.tif to the ice training data array\n",
      "Adding S0_RS2_OK113093_PK989596_DK928340_SCWA_20190929_001947_HH_HV_SGF.tif to the ice training data array\n",
      "Adding S0_RS2_OK113094_PK989618_DK928363_SCWA_20190929_135757_HH_HV_SGF.tif to the ice training data array\n",
      "Adding S0_RS2_OK113095_PK989669_DK928442_SCWA_20190930_132825_HH_HV_SGF.tif to the ice training data array\n",
      "Adding S0_RS2_OK113415_PK992659_DK930887_SCWA_20191004_011422_HH_HV_SGF.tif to the ice training data array\n",
      "Adding S0_RS2_OK113416_PK992723_DK930929_SCWA_20191005_004452_HH_HV_SGF.tif to the ice training data array\n",
      "Adding S0_RS2_OK113417_PK992739_DK930945_SCWA_20191005_142213_HH_HV_SGF.tif to the ice training data array\n",
      "Adding S0_RS2_OK113417_PK992754_DK930958_SCWA_20191006_001530_HH_HV_SGF.tif to the ice training data array\n",
      "Adding S0_RS2_OK113418_PK992792_DK930973_SCWA_20191006_135309_HH_HV_SGF.tif to the ice training data array\n",
      "Adding S0_RS2_OK113418_PK992808_DK930989_SCWA_20191007_012709_HH_HV_SGF.tif to the ice training data array\n",
      "Adding S0_RS2_OK113419_PK992828_DK931009_SCWA_20191007_132325_HH_HV_SGF.tif to the ice training data array\n",
      "Adding S0_RS2_OK113419_PK992829_DK931010_SCWA_20191007_132439_HH_HV_SGF.tif to the ice training data array\n",
      "Adding S0_RS2_OK120534_PK1060148_DK1001414_SCWA_20190812_002012_HH_HV_SGF.tif to the ice training data array\n",
      "Adding S0_RS2_OK120534_PK1060150_DK1001415_SCWA_20190813_132836_HH_HV_SGF.tif to the ice training data array\n",
      "Adding S0_RS2_OK120534_PK1060152_DK1001416_SCWA_20190816_134107_HH_HV_SGF.tif to the ice training data array\n",
      "Adding S0_RS2_OK120534_PK1060157_DK1001418_SCWA_20190818_004516_HH_HV_SGF.tif to the ice training data array\n",
      "Adding S0_RS2_OK120535_PK1060117_DK1001419_SCWA_20190819_135337_HH_HV_SGF.tif to the ice training data array\n",
      "Adding S0_RS2_OK120535_PK1060119_DK1001420_SCWA_20190820_132424_HH_HV_SGF.tif to the ice training data array\n",
      "Adding S0_RS2_OK120535_PK1060121_DK1001421_SCWA_20190822_002832_HH_HV_SGF.tif to the ice training data array\n",
      "Adding S0_RS2_OK120535_PK1060123_DK1001422_SCWA_20190825_004104_HH_HV_SGF.tif to the ice training data array\n",
      "Adding S0_RS2_OK120535_PK1060125_DK1001423_SCWA_20190826_001150_HH_HV_SGF.tif to the ice training data array\n",
      "Adding S0_RS2_OK120535_PK1060127_DK1001424_SCWA_20190826_134927_HH_HV_SGF.tif to the ice training data array\n",
      "Adding S0_RS2_OK120535_PK1060129_DK1001425_SCWA_20190829_002422_HH_HV_SGF.tif to the ice training data array\n",
      "Adding S0_RS2_OK120535_PK1060131_DK1001426_SCWA_20190830_133246_HH_HV_SGF.tif to the ice training data array\n"
     ]
    },
    {
     "name": "stdout",
     "output_type": "stream",
     "text": [
      "Adding S0_RS2_OK120535_PK1060135_DK1001428_SCWA_20190905_002011_HH_HV_SGF.tif to the ice training data array\n",
      "Adding S0_RS2_OK120535_PK1060141_DK1001431_SCWA_20190912_001600_HH_HV_SGF.tif to the ice training data array\n",
      "Adding S0_RS2_OK120535_PK1060143_DK1001432_SCWA_20190915_002834_HH_HV_SGF.tif to the ice training data array\n",
      "Adding S0_RS2_OK120535_PK1060147_DK1001434_SCWA_20190919_001149_HH_HV_SGF.tif to the ice training data array\n",
      "Adding S0_RS2_OK120535_PK1060151_DK1001436_SCWA_20190922_002420_HH_HV_SGF.tif to the ice training data array\n",
      "Adding S0_RS2_OK120535_PK1060153_DK1001437_SCWA_20190923_133244_HH_HV_SGF.tif to the ice training data array\n",
      "Adding S0_RS2_OK120535_PK1060158_DK1001439_SCWA_20190926_134515_HH_HV_SGF.tif to the ice training data array\n",
      "Adding S0_RS2_OK120535_PK1060162_DK1001441_SCWA_20190929_002010_HH_HV_SGF.tif to the ice training data array\n",
      "Adding S0_RS2_OK120535_PK1060164_DK1001442_SCWA_20190930_132834_HH_HV_SGF.tif to the ice training data array\n",
      "Adding S0_RS2_OK120535_PK1060168_DK1001444_SCWA_20191005_004514_HH_HV_SGF.tif to the ice training data array\n",
      "Adding S0_RS2_OK120535_PK1060170_DK1001445_SCWA_20191006_135335_HH_HV_SGF.tif to the ice training data array\n",
      "Adding S0_RS2_OK120535_PK1060172_DK1001446_SCWA_20191007_132423_HH_HV_SGF.tif to the ice training data array\n"
     ]
    }
   ],
   "source": [
    "import gdal\n",
    "from os.path import join\n",
    "from datetime import datetime\n",
    "\n",
    "#Initiating the output training data directory\n",
    "outdir = r'Data\\water'\n",
    "\n",
    "#Initiating which class to assemble (NOTE: This step is necessary due to the large amount of data the code has to hold in\n",
    "#memory)\n",
    "#Possible inputs: ['ice', 'water']\n",
    "cnn_class = 'water'\n",
    "\n",
    "#Specifying the sample size, e.g. number of pixels\n",
    "numpix = 20\n",
    "\n",
    "#Specifying the number of bands\n",
    "numbands = 4\n",
    "\n",
    "#Initiating training data array\n",
    "trarray = np.empty([0,numpix,numpix,numbands])\n",
    "\n",
    "#Start filtering all images\n",
    "for image in files:\n",
    "    year = int(image.split('_')[6][0:4])\n",
    "    month = int(image.split('_')[6][4:6])\n",
    "    day = int(image.split('_')[6][6:8])\n",
    "    \n",
    "    if datetime(year,month,day) >= datetime(2019,8,1):\n",
    "        \n",
    "        print('Adding ' + image + ' to the ice training data array')\n",
    "\n",
    "        #Reading the processed image\n",
    "        ras = gdal.Open(join(indir, image))\n",
    "        x = ras.RasterXSize\n",
    "        y = ras.RasterYSize\n",
    "\n",
    "        #Creating a temporary array\n",
    "        temp_array = np.empty([int(int(x/numpix)*int(y/numpix)),numpix,numpix,numbands])\n",
    "\n",
    "        #Subsampling the image by band\n",
    "        for k in np.arange(numbands):\n",
    "\n",
    "            #Getting the band from the image\n",
    "            temp_array2 = ras.GetRasterBand(int(k+1)).ReadAsArray(0, 0, \n",
    "                                                                  int(int(x/numpix) * numpix), \n",
    "                                                                  int(int(y/numpix) * numpix))\n",
    "            #Resampling the band into 20 x 20 subsamples\n",
    "            temp_array[:,:,:,k] = resamp(temp_array2, numpix)\n",
    "\n",
    "            del temp_array2\n",
    "\n",
    "        #Initiating an empty list of indices to remove NoData subsamples\n",
    "        idx = []\n",
    "\n",
    "        #Finding the NoData subsamples\n",
    "        for i in np.arange(len(temp_array)):\n",
    "            if (~np.isnan(temp_array[i,:,:,0]).any() and \n",
    "                ~np.isnan(temp_array[i,:,:,1]).any() and \n",
    "                ~np.any(temp_array[i,:,:,0]==-90) and \n",
    "                ~np.any(temp_array[i,:,:,1]==-90)):\n",
    "                idx.append(i)\n",
    "\n",
    "        #Removing the NoData subsamples\n",
    "        temp_array = temp_array[idx, :, :, :]\n",
    "\n",
    "        #Appending the image temporary array to the final ice training data array\n",
    "        trarray = np.append(trarray, temp_array, axis=0)\n",
    "        del temp_array, ras, x, y\n",
    "\n",
    "#Saving the Training Data\n",
    "np.save(join(outdir, 'TestDataS0_' + cnn_class + '.npy'), trarray)\n",
    "        "
   ]
  },
  {
   "cell_type": "code",
   "execution_count": 4,
   "metadata": {},
   "outputs": [
    {
     "data": {
      "text/plain": [
       "(671304, 20, 20, 4)"
      ]
     },
     "execution_count": 4,
     "metadata": {},
     "output_type": "execute_result"
    }
   ],
   "source": [
    "np.save(join(outdir, 'TestData_' + cnn_class + '.npy'), trarray)\n",
    "np.shape(trarray)"
   ]
  },
  {
   "cell_type": "code",
   "execution_count": null,
   "metadata": {},
   "outputs": [],
   "source": []
  }
 ],
 "metadata": {
  "kernelspec": {
   "display_name": "Python 3",
   "language": "python",
   "name": "python3"
  },
  "language_info": {
   "codemirror_mode": {
    "name": "ipython",
    "version": 3
   },
   "file_extension": ".py",
   "mimetype": "text/x-python",
   "name": "python",
   "nbconvert_exporter": "python",
   "pygments_lexer": "ipython3",
   "version": "3.6.7"
  }
 },
 "nbformat": 4,
 "nbformat_minor": 2
}
