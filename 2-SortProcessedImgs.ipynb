{
 "cells": [
  {
   "cell_type": "markdown",
   "metadata": {},
   "source": [
    "# Sort the ARD images into ice/water/mix classes\n",
    "This code takes all the processed images from the main SeaIceCNN folder and sorts them into three classes (ice/water/mix). They are all copied into respective subfolders of \"Data\" in order to facilitate the training of the CNN model (this is really useful in the case of batch training, Keras has tools to reads batches of subfolders)"
   ]
  },
  {
   "cell_type": "code",
   "execution_count": 1,
   "metadata": {},
   "outputs": [],
   "source": [
    "#Importing start/end dates for ice/water periods\n",
    "import pandas as pd\n",
    "dates = pd.read_excel(r\"Data\\IceWaterDates.xlsx\")"
   ]
  },
  {
   "cell_type": "code",
   "execution_count": 4,
   "metadata": {},
   "outputs": [
    {
     "name": "stdout",
     "output_type": "stream",
     "text": [
      "['S0_RS2_OK9968_PK112693_DK109010_SCWA_20100213_004158_HH_HV_SGF.tif']\n"
     ]
    }
   ],
   "source": [
    "#Reading all the files in the main folder\n",
    "from os import listdir, remove\n",
    "files = [f for f in listdir() if f.endswith('.tif') and f.startswith('S0_RS2_')]\n",
    "print(files)"
   ]
  },
  {
   "cell_type": "code",
   "execution_count": 6,
   "metadata": {},
   "outputs": [],
   "source": [
    "#Importing libraries\n",
    "from datetime import datetime\n",
    "from shutil import copyfile\n",
    "from os.path import join, isfile, isdir\n",
    "from os import mkdir"
   ]
  },
  {
   "cell_type": "code",
   "execution_count": 7,
   "metadata": {},
   "outputs": [],
   "source": [
    "#Making the subfolders if they don't exist\n",
    "if not isdir('Data/ice'):\n",
    "    mkdir('Data/ice')\n",
    "    \n",
    "if not isdir('Data/water'):\n",
    "    mkdir('Data/water')\n",
    "    \n",
    "if not isdir('Data/mix'):\n",
    "    mkdir('Data/mix')"
   ]
  },
  {
   "cell_type": "code",
   "execution_count": 9,
   "metadata": {},
   "outputs": [],
   "source": [
    "#Sorts the files based on the acquisitions dates\n",
    "for f in files:\n",
    "    \n",
    "    #Read acquisition date of the image from the filename\n",
    "    year = int(f.split('_')[6][0:4])\n",
    "    month = int(f.split('_')[6][4:6])\n",
    "    day = int(f.split('_')[6][6:8])\n",
    "    date = datetime(year, month, day)\n",
    "    \n",
    "    #Initiate an index to determine if the file is a training data file\n",
    "    x = 0\n",
    "    \n",
    "    #For each start/end period of every year\n",
    "    for y in range(len(dates)):\n",
    "        \n",
    "        #If the date is within the ice free (water) period\n",
    "        if (date>=dates.iloc[y,0]) & (date<=dates.iloc[y,1]):\n",
    "            \n",
    "            #Simply remove the file if it already exists in the subfolder\n",
    "            if isfile(join(r'Data', 'water', f)):\n",
    "                \n",
    "                remove(f)\n",
    "            \n",
    "            #Copy the file to the subfolder and delete it from the main folder\n",
    "            else:\n",
    "                copyfile(f, join(r'Data', 'water', f))\n",
    "                remove(f)\n",
    "                #File was copied, change the index\n",
    "            x = 1\n",
    "            \n",
    "        #If the date is within the ice covered period\n",
    "        elif (date>=dates.iloc[y,2]) & (date<=dates.iloc[y,3]):\n",
    "            \n",
    "            #Simply remove the file if it already exists in the subfolder\n",
    "            if isfile(join(r'Data', 'ice', f)):\n",
    "                \n",
    "                remove(f)\n",
    "                \n",
    "            #Copy the file to the subfolder and delete it from the main folder\n",
    "            else:\n",
    "                \n",
    "                copyfile(f, join(r'Data', 'ice', f))\n",
    "                remove(f)\n",
    "                #File was copied, change the index\n",
    "            x = 1\n",
    "    \n",
    "    #If the file was not copied in training folders, i.e. it's not complete ice or water, \n",
    "    #copy the file in the \"mix\" folder\n",
    "    if x == 0:\n",
    "        \n",
    "        #Simply remove the file if it already exists in the subfolder\n",
    "        if isfile(join(r'Data', 'mix', f)):\n",
    "                \n",
    "                remove(f)\n",
    "           \n",
    "        #Copy the file to the subfolder and delete it from the main folder\n",
    "        else:\n",
    "            \n",
    "            copyfile(f, join(r'Data', 'mix', f))\n",
    "            remove(f)"
   ]
  }
 ],
 "metadata": {
  "kernelspec": {
   "display_name": "Python 3",
   "language": "python",
   "name": "python3"
  },
  "language_info": {
   "codemirror_mode": {
    "name": "ipython",
    "version": 3
   },
   "file_extension": ".py",
   "mimetype": "text/x-python",
   "name": "python",
   "nbconvert_exporter": "python",
   "pygments_lexer": "ipython3",
   "version": "3.6.7"
  }
 },
 "nbformat": 4,
 "nbformat_minor": 2
}
