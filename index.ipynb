{
 "cells": [
  {
   "cell_type": "markdown",
   "metadata": {},
   "source": [
    "# Table of Contents"
   ]
  },
  {
   "cell_type": "markdown",
   "metadata": {},
   "source": [
    "## Training the Convolutional Neural Network (CNN)"
   ]
  },
  {
   "cell_type": "markdown",
   "metadata": {},
   "source": [
    "### Part 1: [Radarsat-2 Analysis-Ready-Data (ARD) Processing](./Notebooks/CNN/1-RS2_ARD_processing.ipynb)"
   ]
  },
  {
   "cell_type": "markdown",
   "metadata": {},
   "source": [
    "### Part 2: [Sorting of processed RS2 Imagery](./Notebooks/CNN/2-SortProcessedImgs.ipynb)"
   ]
  },
  {
   "cell_type": "markdown",
   "metadata": {},
   "source": [
    "### Part 3: Assembling of Training Data\n",
    "#### [Assemble Ice-Class Training Data](./Notebooks/CNN/3-AssembleTrainingData_IceClass.ipynb)\n",
    "#### [Assemble Water-Class Training Data](./Notebooks/CNN/3-AssembleTrainingData_WaterClass.ipynb)"
   ]
  },
  {
   "cell_type": "markdown",
   "metadata": {},
   "source": [
    "### Part 4: [Training the Model](./Notebooks/CNN/4-SeaIceCNN_4BandsS0.ipynb)"
   ]
  },
  {
   "cell_type": "markdown",
   "metadata": {},
   "source": [
    "### Part 5: Assembling of Testing Data\n",
    "#### [Assemble Ice-Class Testing Data](./Notebooks/CNN/5-AssembleTestData_IceClass.ipynb)\n",
    "#### [Assemble Water-Class Testing Data](./Notebooks/CNN/5-AssembleTestData_WaterClass.ipynb)"
   ]
  },
  {
   "cell_type": "markdown",
   "metadata": {},
   "source": [
    "## Analysis of Results"
   ]
  },
  {
   "cell_type": "markdown",
   "metadata": {},
   "source": [
    "### Part 1: [Explore the Model](./Notebooks/PaperResults/1-ModelInputPlot.ipynb)"
   ]
  },
  {
   "cell_type": "markdown",
   "metadata": {},
   "source": [
    "### Part 2: [Model Training History](./Notebooks/PaperResults/2-ModelTrainingHistoryPlot.ipynb)"
   ]
  },
  {
   "cell_type": "markdown",
   "metadata": {},
   "source": [
    "### Part 3: [Model Prediction Distributions](./Notebooks/PaperResults/3-ModelPredictionDistributions.ipynb)"
   ]
  },
  {
   "cell_type": "markdown",
   "metadata": {},
   "source": [
    "### Part 4: Comparitive Analysis\n",
    "#### [Sea Ice Concentration from ASI](./Notebooks/PaperResults/4.1-WeeklySIC_ASI.ipynb)\n",
    "#### [Sea Ice Concentration from CIS](./Notebooks/PaperResults/4.2-WeeklySIC_CIS.ipynb)\n",
    "#### [Sea Ice Concentration from RS2](./Notebooks/PaperResults/4.3-WeeklySIC_R2.ipynb)"
   ]
  }
 ],
 "metadata": {
  "kernelspec": {
   "display_name": "Python 3",
   "language": "python",
   "name": "python3"
  },
  "language_info": {
   "codemirror_mode": {
    "name": "ipython",
    "version": 3
   },
   "file_extension": ".py",
   "mimetype": "text/x-python",
   "name": "python",
   "nbconvert_exporter": "python",
   "pygments_lexer": "ipython3",
   "version": "3.6.7"
  }
 },
 "nbformat": 4,
 "nbformat_minor": 2
}
