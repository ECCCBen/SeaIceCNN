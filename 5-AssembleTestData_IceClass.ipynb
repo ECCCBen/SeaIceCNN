{
 "cells": [
  {
   "cell_type": "markdown",
   "metadata": {},
   "source": [
    "# Read all the files in \"ice\" subfolder and creates a huge 4D numpy array to test the CNN model"
   ]
  },
  {
   "cell_type": "code",
   "execution_count": 2,
   "metadata": {},
   "outputs": [
    {
     "name": "stdout",
     "output_type": "stream",
     "text": [
      "There are 586 files to filter...\n"
     ]
    }
   ],
   "source": [
    "from os import listdir\n",
    "\n",
    "#Initiating the input directory\n",
    "indir = r'Data\\ice'\n",
    "\n",
    "#Finding all the processed geotiffs in the input directory\n",
    "files = [f for f in listdir(indir) if f.startswith('S0_RS2') and f.endswith('.tif')]\n",
    "\n",
    "#Prints out the number of files to filter\n",
    "print('There are ' + str(len(files)) + ' files to filter...')"
   ]
  },
  {
   "cell_type": "code",
   "execution_count": 3,
   "metadata": {},
   "outputs": [],
   "source": [
    "import numpy as np\n",
    "\n",
    "#Function to resample the different bands into N x N subsamples\n",
    "def resamp(arr, N):\n",
    "    A = []\n",
    "    for v in np.vsplit(arr, arr.shape[0] // N):\n",
    "        A.extend([*np.hsplit(v, arr.shape[1] // N)])\n",
    "    return np.array(A)"
   ]
  },
  {
   "cell_type": "code",
   "execution_count": 5,
   "metadata": {
    "scrolled": true
   },
   "outputs": [
    {
     "name": "stdout",
     "output_type": "stream",
     "text": [
      "Adding S0_RS2_OK115894_PK1014272_DK953063_SCWA_20191230_003617_HH_HV_SGF.tif to the ice training data array\n",
      "Adding S0_RS2_OK116124_PK1016138_DK954759_SCWA_20200105_143853_HH_HV_SGF.tif to the ice training data array\n",
      "Adding S0_RS2_OK116124_PK1016157_DK954778_SCWA_20200106_003208_HH_HV_SGF.tif to the ice training data array\n",
      "Adding S0_RS2_OK116125_PK1016179_DK954800_SCWA_20200106_141000_HH_HV_SGF.tif to the ice training data array\n",
      "Adding S0_RS2_OK116360_PK1017804_DK956329_SCWA_20200112_143454_HH_HV_SGF.tif to the ice training data array\n",
      "Adding S0_RS2_OK116360_PK1017846_DK956371_SCWA_20200113_002757_HH_HV_SGF.tif to the ice training data array\n",
      "Adding S0_RS2_OK116669_PK1021564_DK960805_SCWA_20200119_143035_HH_HV_SGF.tif to the ice training data array\n",
      "Adding S0_RS2_OK116669_PK1021583_DK960821_SCWA_20200120_002347_HH_HV_SGF.tif to the ice training data array\n",
      "Adding S0_RS2_OK116670_PK1021621_DK960871_SCWA_20200120_140138_HH_HV_SGF.tif to the ice training data array\n",
      "Adding S0_RS2_OK116779_PK1023179_DK962528_SCWA_20200126_142631_HH_HV_SGF.tif to the ice training data array\n",
      "Adding S0_RS2_OK116779_PK1023195_DK962544_SCWA_20200127_001933_HH_HV_SGF.tif to the ice training data array\n",
      "Adding S0_RS2_OK116781_PK1023221_DK962570_SCWA_20200127_135712_HH_HV_SGF.tif to the ice training data array\n",
      "Adding S0_RS2_OK116972_PK1025437_DK964707_SCWA_20200202_142219_HH_HV_SGF.tif to the ice training data array\n",
      "Adding S0_RS2_OK116973_PK1032305_DK971638_SCWA_20200203_135320_HH_HV_SGF.tif to the ice training data array\n",
      "Adding S0_RS2_OK117133_PK1026859_DK966210_SCWA_20200209_141801_HH_HV_SGF.tif to the ice training data array\n",
      "Adding S0_RS2_OK117133_PK1026875_DK966226_SCWA_20200210_001107_HH_HV_SGF.tif to the ice training data array\n",
      "Adding S0_RS2_OK117134_PK1026900_DK966248_SCWA_20200210_134924_HH_HV_SGF.tif to the ice training data array\n",
      "Adding S0_RS2_OK117414_PK1032320_DK971655_SCWA_20200212_005309_HH_HV_SGF.tif to the ice training data array\n",
      "Adding S0_RS2_OK117417_PK1030309_DK968191_SCWA_20200215_010551_HH_HV_SGF.tif to the ice training data array\n",
      "Adding S0_RS2_OK117417_PK1032619_DK972100_SCWA_20200214_133233_HH_HV_SGF.tif to the ice training data array\n",
      "Adding S0_RS2_OK117418_PK1035431_DK975020_SCWA_20200215_144256_HH_HV_SGF.tif to the ice training data array\n",
      "Adding S0_RS2_OK117419_PK1030365_DK968244_SCWA_20200217_000655_HH_HV_SGF.tif to the ice training data array\n",
      "Adding S0_RS2_OK117420_PK1030382_DK968261_SCWA_20200217_134446_HH_HV_SGF.tif to the ice training data array\n",
      "Adding S0_RS2_OK117608_PK1032620_DK972101_SCWA_20200220_135737_HH_HV_SGF.tif to the ice training data array\n",
      "Adding S0_RS2_OK117610_PK1032506_DK971993_SCWA_20200222_143847_HH_HV_SGF.tif to the ice training data array\n",
      "Adding S0_RS2_OK117611_PK1032526_DK972013_SCWA_20200223_140915_HH_HV_SGF.tif to the ice training data array\n",
      "Adding S0_RS2_OK117611_PK1032527_DK972014_SCWA_20200223_141030_HH_HV_SGF.tif to the ice training data array\n",
      "Adding S0_RS2_OK117612_PK1032563_DK972050_SCWA_20200224_134048_HH_HV_SGF.tif to the ice training data array\n",
      "Adding S0_RS2_OK117844_PK1034220_DK973712_SCWA_20200301_140548_HH_HV_SGF.tif to the ice training data array\n",
      "Adding S0_RS2_OK117845_PK1034122_DK973610_SCWA_20200302_133657_HH_HV_SGF.tif to the ice training data array\n",
      "Adding S0_RS2_OK117923_PK1034582_DK974143_SCWA_20200307_143014_HH_HV_SGF.tif to the ice training data array\n",
      "Adding S0_RS2_OK117923_PK1034583_DK974144_SCWA_20200307_143129_HH_HV_SGF.tif to the ice training data array\n",
      "Adding S0_RS2_OK117925_PK1034613_DK974174_SCWA_20200308_140138_HH_HV_SGF.tif to the ice training data array\n",
      "Adding S0_RS2_OK118208_PK1036693_DK976167_SCWA_20200314_142651_HH_HV_SGF.tif to the ice training data array\n",
      "Adding S0_RS2_OK118208_PK1036711_DK976185_SCWA_20200315_001930_HH_HV_SGF.tif to the ice training data array\n",
      "Adding S0_RS2_OK118209_PK1036722_DK976196_SCWA_20200315_135732_HH_HV_SGF.tif to the ice training data array\n",
      "Adding S0_RS2_OK118409_PK1038115_DK978079_SCWA_20200321_142213_HH_HV_SGF.tif to the ice training data array\n",
      "Adding S0_RS2_OK118409_PK1038129_DK978093_SCWA_20200322_001502_HH_HV_SGF.tif to the ice training data array\n",
      "Adding S0_RS2_OK118410_PK1038144_DK978108_SCWA_20200322_135228_HH_HV_SGF.tif to the ice training data array\n",
      "Adding S0_RS2_OK118410_PK1038145_DK978109_SCWA_20200322_135342_HH_HV_SGF.tif to the ice training data array\n",
      "Adding S0_RS2_OK118540_PK1039115_DK979694_SCWA_20200328_141724_HH_HV_SGF.tif to the ice training data array\n",
      "Adding S0_RS2_OK118540_PK1039118_DK979696_SCWA_20200328_141839_HH_HV_SGF.tif to the ice training data array\n",
      "Adding S0_RS2_OK118540_PK1039161_DK979739_SCWA_20200329_001102_HH_HV_SGF.tif to the ice training data array\n",
      "Adding S0_RS2_OK118541_PK1039171_DK979749_SCWA_20200329_134909_HH_HV_SGF.tif to the ice training data array\n",
      "Adding S0_RS2_OK120536_PK1060200_DK1001483_SCWA_20191230_003645_HH_HV_SGF.tif to the ice training data array\n"
     ]
    }
   ],
   "source": [
    "import gdal\n",
    "from os.path import join\n",
    "from datetime import datetime\n",
    "\n",
    "#Initiating the output training data directory\n",
    "outdir = r'Data\\ice'\n",
    "\n",
    "#Initiating which class to assemble (NOTE: This step is necessary due to the large amount of data the code has to hold in\n",
    "#memory)\n",
    "#Possible inputs: ['ice', 'water']\n",
    "cnn_class = 'ice'\n",
    "\n",
    "#Specifying the sample size, e.g. number of pixels\n",
    "numpix = 20\n",
    "\n",
    "#Specifying the number of bands\n",
    "numbands = 4\n",
    "\n",
    "#Initiating training data array\n",
    "trarray = np.empty([0,numpix,numpix,numbands])\n",
    "\n",
    "#Start filtering all images\n",
    "for image in files:\n",
    "    year = int(image.split('_')[6][0:4])\n",
    "    month = int(image.split('_')[6][4:6])\n",
    "    day = int(image.split('_')[6][6:8])\n",
    "    \n",
    "    if datetime(year,month,day) >= datetime(2019,8,1):\n",
    "        \n",
    "        print('Adding ' + image + ' to the ice training data array')\n",
    "\n",
    "        #Reading the processed image\n",
    "        ras = gdal.Open(join(indir, image))\n",
    "        x = ras.RasterXSize\n",
    "        y = ras.RasterYSize\n",
    "\n",
    "        #Creating a temporary array\n",
    "        temp_array = np.empty([int(int(x/numpix)*int(y/numpix)),numpix,numpix,numbands])\n",
    "\n",
    "        #Subsampling the image by band\n",
    "        for k in np.arange(numbands):\n",
    "\n",
    "            #Getting the band from the image\n",
    "            temp_array2 = ras.GetRasterBand(int(k+1)).ReadAsArray(0, 0, \n",
    "                                                                  int(int(x/numpix) * numpix), \n",
    "                                                                  int(int(y/numpix) * numpix))\n",
    "            #Resampling the band into 20 x 20 subsamples\n",
    "            temp_array[:,:,:,k] = resamp(temp_array2, numpix)\n",
    "\n",
    "            del temp_array2\n",
    "\n",
    "        #Initiating an empty list of indices to remove NoData subsamples\n",
    "        idx = []\n",
    "\n",
    "        #Finding the NoData subsamples\n",
    "        for i in np.arange(len(temp_array)):\n",
    "            if (~np.isnan(temp_array[i,:,:,0]).any() and \n",
    "                ~np.isnan(temp_array[i,:,:,1]).any() and \n",
    "                ~np.any(temp_array[i,:,:,0]==-90) and \n",
    "                ~np.any(temp_array[i,:,:,1]==-90)):\n",
    "                idx.append(i)\n",
    "\n",
    "        #Removing the NoData subsamples\n",
    "        temp_array = temp_array[idx, :, :, :]\n",
    "\n",
    "        #Appending the image temporary array to the final ice training data array\n",
    "        trarray = np.append(trarray, temp_array, axis=0)\n",
    "        del temp_array, ras, x, y\n",
    "\n",
    "#Saving the Training Data\n",
    "np.save(join(outdir, 'TestDataS0_' + cnn_class + '.npy'), trarray)\n",
    "        "
   ]
  },
  {
   "cell_type": "code",
   "execution_count": 6,
   "metadata": {},
   "outputs": [
    {
     "data": {
      "text/plain": [
       "(488169, 20, 20, 4)"
      ]
     },
     "execution_count": 6,
     "metadata": {},
     "output_type": "execute_result"
    }
   ],
   "source": [
    "np.shape(trarray)"
   ]
  },
  {
   "cell_type": "code",
   "execution_count": null,
   "metadata": {},
   "outputs": [],
   "source": []
  }
 ],
 "metadata": {
  "kernelspec": {
   "display_name": "Python 3",
   "language": "python",
   "name": "python3"
  },
  "language_info": {
   "codemirror_mode": {
    "name": "ipython",
    "version": 3
   },
   "file_extension": ".py",
   "mimetype": "text/x-python",
   "name": "python",
   "nbconvert_exporter": "python",
   "pygments_lexer": "ipython3",
   "version": "3.6.7"
  }
 },
 "nbformat": 4,
 "nbformat_minor": 2
}
