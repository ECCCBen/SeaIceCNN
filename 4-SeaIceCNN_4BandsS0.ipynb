{
 "cells": [
  {
   "cell_type": "markdown",
   "metadata": {},
   "source": [
    "# Building a Convolutional Neural Network for Sea Ice/Water Classification"
   ]
  },
  {
   "cell_type": "markdown",
   "metadata": {},
   "source": [
    "# Importing training/validation dataset\n",
    "Note: Data used for this model can be transferred via ftp if required"
   ]
  },
  {
   "cell_type": "code",
   "execution_count": 1,
   "metadata": {},
   "outputs": [],
   "source": [
    "import numpy as np"
   ]
  },
  {
   "cell_type": "code",
   "execution_count": 2,
   "metadata": {},
   "outputs": [],
   "source": [
    "y_ice = np.zeros(7215051, dtype=np.int8)\n",
    "y_water = np.ones(5534646, dtype=np.int8)\n",
    "y = np.concatenate((y_ice,y_water))\n",
    "\n",
    "X = np.empty((len(y), 20, 20, 4), dtype=np.float32)\n",
    "X[:len(y_ice)] = np.load(r\"E:\\ScanSARzip\\ice\\TrainingDataS0_ice.npy\")\n",
    "X[len(y_ice):] = np.load(r\"E:\\ScanSARzip\\water\\TrainingDataS0_water.npy\")\n",
    "\n",
    "del y_ice, y_water"
   ]
  },
  {
   "cell_type": "code",
   "execution_count": 3,
   "metadata": {},
   "outputs": [
    {
     "name": "stdout",
     "output_type": "stream",
     "text": [
      "(12749697, 20, 20, 4)\n",
      "12749697\n"
     ]
    }
   ],
   "source": [
    "print(X.shape)\n",
    "print(len(y))"
   ]
  },
  {
   "cell_type": "code",
   "execution_count": 4,
   "metadata": {},
   "outputs": [],
   "source": [
    "#Shuffles the dataset to ensure random selection of training/validation samples\n",
    "#rng_state ensure that the shuffling stays the same for both arrays\n",
    "rng_state = np.random.get_state()\n",
    "np.random.shuffle(X)\n",
    "np.random.set_state(rng_state)\n",
    "np.random.shuffle(y)\n",
    "\n",
    "np.save(r\"E:\\ScanSARzip\\TrainingDataS0_shuffled.npy\", X)\n",
    "np.save(r\"E:\\ScanSARzip\\ClassDataS0_shuffled.npy\", y)"
   ]
  },
  {
   "cell_type": "code",
   "execution_count": 5,
   "metadata": {},
   "outputs": [],
   "source": [
    "#Calculating normalization parameters\n",
    "means = []\n",
    "stds = []\n",
    "\n",
    "for i in np.arange(X.shape[3]):\n",
    "    means.append(np.mean(X[:,:,:,i]))\n",
    "    stds.append(np.std(X[:,:,:,i]))"
   ]
  },
  {
   "cell_type": "code",
   "execution_count": 6,
   "metadata": {},
   "outputs": [
    {
     "name": "stdout",
     "output_type": "stream",
     "text": [
      "[-18.896164, -27.194685, 34.271114, -28.044096] [5.2930045, 2.0444396, 8.304159, 0.6703767]\n"
     ]
    }
   ],
   "source": [
    "import pandas as pd\n",
    "pd.DataFrame({'means':means, 'stds':stds}, \n",
    "             index=['HH','HV','Angle','Noise']).to_pickle(r\"E:\\Git\\SeaIceCNN\\Data\\means_stds_S0_cnn_2021806.pkl\")\n",
    "print(means,stds)"
   ]
  },
  {
   "cell_type": "code",
   "execution_count": 7,
   "metadata": {},
   "outputs": [],
   "source": [
    "#Nomalizing dataset by mean and standard deviation to improve CNN accuracy\n",
    "for i in np.arange(X.shape[3]):\n",
    "    X[:,:,:,i] = (X[:,:,:,i] - means[i]) / stds[i]"
   ]
  },
  {
   "cell_type": "markdown",
   "metadata": {},
   "source": [
    "# Building the CNN"
   ]
  },
  {
   "cell_type": "code",
   "execution_count": 8,
   "metadata": {},
   "outputs": [],
   "source": [
    "# Importing the Keras libraries and packages\n",
    "from tensorflow.keras.models import Sequential\n",
    "from tensorflow.keras.layers import Conv2D\n",
    "from tensorflow.keras.layers import MaxPooling2D\n",
    "from tensorflow.keras.layers import Flatten\n",
    "from tensorflow.keras.layers import Dense, Dropout\n",
    "from tensorflow.keras.callbacks import ReduceLROnPlateau\n",
    "from tensorflow.keras.callbacks import EarlyStopping\n",
    "from tensorflow.keras.callbacks import ModelCheckpoint"
   ]
  },
  {
   "cell_type": "code",
   "execution_count": 9,
   "metadata": {},
   "outputs": [],
   "source": [
    "# Initialising the CNN\n",
    "classifierhh = Sequential()"
   ]
  },
  {
   "cell_type": "code",
   "execution_count": 10,
   "metadata": {},
   "outputs": [],
   "source": [
    "#Initializing the convolution layer imput parameters\n",
    "convlayers = 128 # Number of filters\n",
    "convwindsize1 = 5 # Window Size (horizontal)\n",
    "convwindsize2 = 5 # Window Size (vertical)\n",
    "imheight = 20 # Height of input image\n",
    "imwidth = 20 # Width of imput image\n",
    "imbands = 4  # Number of image bands"
   ]
  },
  {
   "cell_type": "code",
   "execution_count": 11,
   "metadata": {},
   "outputs": [],
   "source": [
    "# Step 1 - Convolution\n",
    "classifierhh.add(Conv2D(convlayers, (convwindsize1, convwindsize1), strides =(1,1),\n",
    "                        input_shape = (imwidth, imheight, imbands), activation = 'relu'))\n",
    "# Adding a drop layer to randomly remove 10% of training samples to avoid overfitting of training dataset\n",
    "#classifierhh.add(Dropout(rate = 0.1))"
   ]
  },
  {
   "cell_type": "code",
   "execution_count": 12,
   "metadata": {},
   "outputs": [],
   "source": [
    "# Step 2 - Pooling\n",
    "poolsize = 2 # Window Size to extract the maximum value from (MaxPooling)\n",
    "classifierhh.add(MaxPooling2D(pool_size = (poolsize, poolsize)))"
   ]
  },
  {
   "cell_type": "code",
   "execution_count": 13,
   "metadata": {},
   "outputs": [],
   "source": [
    "# Adding a second convolution/pool layer\n",
    "classifierhh.add(Conv2D(convlayers, (convwindsize2, convwindsize2), strides = (1,1), activation = 'relu'))\n",
    "classifierhh.add(MaxPooling2D(pool_size = (poolsize, poolsize)))"
   ]
  },
  {
   "cell_type": "code",
   "execution_count": 14,
   "metadata": {},
   "outputs": [],
   "source": [
    "# Step 3 - Flattening\n",
    "classifierhh.add(Flatten())"
   ]
  },
  {
   "cell_type": "code",
   "execution_count": 15,
   "metadata": {},
   "outputs": [],
   "source": [
    "# Step 4 - Full connection\n",
    "outdim1 = 1024 #Number of nodes in the 1st fully connected layer\n",
    "classifierhh.add(Dense(units = outdim1, activation = 'relu'))\n",
    "# Randomly drop 10% of the nodes during training to avoid overfitting of specific nodes\n",
    "classifierhh.add(Dropout(rate = 0.1))\n",
    "outdim2 = 128 # Number of nodes in the 2nd fully connected layer\n",
    "classifierhh.add(Dense(units = outdim2, activation = 'relu'))\n",
    "classifierhh.add(Dropout(rate = 0.1))\n",
    "outdim3 = 1 # Number of nodes in 3rd fully connected layer. Since we only have a binary problem (ice/water),\n",
    "            # only 1 dimension is needed\n",
    "classifierhh.add(Dense(units = outdim3, activation = 'sigmoid'))"
   ]
  },
  {
   "cell_type": "code",
   "execution_count": 16,
   "metadata": {},
   "outputs": [],
   "source": [
    "# Compiling the CNN\n",
    "classifierhh.compile(optimizer = 'sgd', loss = 'binary_crossentropy', metrics = ['accuracy'])"
   ]
  },
  {
   "cell_type": "code",
   "execution_count": 17,
   "metadata": {},
   "outputs": [],
   "source": [
    "# Generating training stopage conditions to avoid overfitting\n",
    "reduce_lr = ReduceLROnPlateau(monitor='accuracy', min_delta = 0.03, factor=0.7, patience=5, verbose = 1)\n",
    "early_stop = EarlyStopping(monitor='val_accuracy', min_delta = 1E-4, patience = 10, verbose = 1)\n",
    "checkpointer = ModelCheckpoint(filepath = r'E:\\Git\\SeaIceCNN\\Data\\SeaIceCNN_CheckPoint_20210806.h5', monitor = 'accuracy',\n",
    "                               verbose=1,\n",
    "                               save_best_only=True, save_weights_only = True)"
   ]
  },
  {
   "cell_type": "code",
   "execution_count": 18,
   "metadata": {},
   "outputs": [
    {
     "name": "stdout",
     "output_type": "stream",
     "text": [
      "Train on 8924787 samples, validate on 3824910 samples\n",
      "Epoch 1/100\n",
      "8924787/8924787 [==============================] - 1618s 181us/sample - loss: 0.2751 - accuracy: 0.8723 - val_loss: 0.2558 - val_accuracy: 0.8814\n",
      "Epoch 2/100\n",
      "8924787/8924787 [==============================] - 1628s 182us/sample - loss: 0.2514 - accuracy: 0.8832 - val_loss: 0.2459 - val_accuracy: 0.8859\n",
      "Epoch 3/100\n",
      "8924787/8924787 [==============================] - 1609s 180us/sample - loss: 0.2439 - accuracy: 0.8869 - val_loss: 0.2410 - val_accuracy: 0.8886\n",
      "Epoch 4/100\n",
      "8924787/8924787 [==============================] - 1605s 180us/sample - loss: 0.2394 - accuracy: 0.8891 - val_loss: 0.2386 - val_accuracy: 0.8898\n",
      "Epoch 5/100\n",
      "8924787/8924787 [==============================] - 1597s 179us/sample - loss: 0.2361 - accuracy: 0.8907 - val_loss: 0.2340 - val_accuracy: 0.8919\n",
      "Epoch 6/100\n",
      "8924576/8924787 [============================>.] - ETA: 0s - loss: 0.2335 - accuracy: 0.8921\n",
      "Epoch 00006: ReduceLROnPlateau reducing learning rate to 0.006999999843537807.\n",
      "8924787/8924787 [==============================] - 1589s 178us/sample - loss: 0.2335 - accuracy: 0.8921 - val_loss: 0.2325 - val_accuracy: 0.8920\n",
      "Epoch 7/100\n",
      "8924787/8924787 [==============================] - 1593s 179us/sample - loss: 0.2291 - accuracy: 0.8942 - val_loss: 0.2303 - val_accuracy: 0.8928\n",
      "Epoch 8/100\n",
      "8924787/8924787 [==============================] - 1620s 181us/sample - loss: 0.2275 - accuracy: 0.8949 - val_loss: 0.2286 - val_accuracy: 0.8944\n",
      "Epoch 9/100\n",
      "8924787/8924787 [==============================] - 1601s 179us/sample - loss: 0.2262 - accuracy: 0.8956 - val_loss: 0.2305 - val_accuracy: 0.8936\n",
      "Epoch 10/100\n",
      "8924787/8924787 [==============================] - 1584s 178us/sample - loss: 0.2249 - accuracy: 0.8962 - val_loss: 0.2272 - val_accuracy: 0.8950\n",
      "Epoch 11/100\n",
      "8924768/8924787 [============================>.] - ETA: 0s - loss: 0.2237 - accuracy: 0.8968\n",
      "Epoch 00011: ReduceLROnPlateau reducing learning rate to 0.004899999825283885.\n",
      "8924787/8924787 [==============================] - 1608s 180us/sample - loss: 0.2237 - accuracy: 0.8968 - val_loss: 0.2275 - val_accuracy: 0.8946\n",
      "Epoch 12/100\n",
      "8924787/8924787 [==============================] - 1604s 180us/sample - loss: 0.2205 - accuracy: 0.8983 - val_loss: 0.2239 - val_accuracy: 0.8966\n",
      "Epoch 13/100\n",
      "8924787/8924787 [==============================] - 1583s 177us/sample - loss: 0.2195 - accuracy: 0.8988 - val_loss: 0.2248 - val_accuracy: 0.8959\n",
      "Epoch 14/100\n",
      "8924787/8924787 [==============================] - 1587s 178us/sample - loss: 0.2187 - accuracy: 0.8992 - val_loss: 0.2227 - val_accuracy: 0.8973\n",
      "Epoch 15/100\n",
      "8924787/8924787 [==============================] - 1576s 177us/sample - loss: 0.2179 - accuracy: 0.8996 - val_loss: 0.2233 - val_accuracy: 0.8971\n",
      "Epoch 16/100\n",
      "8924608/8924787 [============================>.] - ETA: 0s - loss: 0.2171 - accuracy: 0.8999\n",
      "Epoch 00016: ReduceLROnPlateau reducing learning rate to 0.0034300000406801696.\n",
      "8924787/8924787 [==============================] - 1589s 178us/sample - loss: 0.2171 - accuracy: 0.8999 - val_loss: 0.2226 - val_accuracy: 0.8970\n",
      "Epoch 17/100\n",
      "8924787/8924787 [==============================] - 1598s 179us/sample - loss: 0.2146 - accuracy: 0.9013 - val_loss: 0.2207 - val_accuracy: 0.8983\n",
      "Epoch 18/100\n",
      "8924787/8924787 [==============================] - 1598s 179us/sample - loss: 0.2138 - accuracy: 0.9016 - val_loss: 0.2203 - val_accuracy: 0.8985\n",
      "Epoch 19/100\n",
      "8924787/8924787 [==============================] - 1589s 178us/sample - loss: 0.2133 - accuracy: 0.9017 - val_loss: 0.2201 - val_accuracy: 0.8986\n",
      "Epoch 20/100\n",
      "8924787/8924787 [==============================] - 1583s 177us/sample - loss: 0.2127 - accuracy: 0.9020 - val_loss: 0.2205 - val_accuracy: 0.8984\n",
      "Epoch 21/100\n",
      "8924736/8924787 [============================>.] - ETA: 0s - loss: 0.2121 - accuracy: 0.9022\n",
      "Epoch 00021: ReduceLROnPlateau reducing learning rate to 0.002401000028476119.\n",
      "8924787/8924787 [==============================] - 1602s 179us/sample - loss: 0.2121 - accuracy: 0.9022 - val_loss: 0.2194 - val_accuracy: 0.8988\n",
      "Epoch 22/100\n",
      "8924787/8924787 [==============================] - 1606s 180us/sample - loss: 0.2099 - accuracy: 0.9033 - val_loss: 0.2187 - val_accuracy: 0.8993\n",
      "Epoch 23/100\n",
      "8924787/8924787 [==============================] - 1578s 177us/sample - loss: 0.2094 - accuracy: 0.9036 - val_loss: 0.2190 - val_accuracy: 0.8990\n",
      "Epoch 24/100\n",
      "8924787/8924787 [==============================] - 1574s 176us/sample - loss: 0.2090 - accuracy: 0.9038 - val_loss: 0.2195 - val_accuracy: 0.8987\n",
      "Epoch 25/100\n",
      "8924787/8924787 [==============================] - 1587s 178us/sample - loss: 0.2085 - accuracy: 0.9041 - val_loss: 0.2187 - val_accuracy: 0.8992\n",
      "Epoch 26/100\n",
      "8924787/8924787 [==============================] - 1613s 181us/sample - loss: 0.2080 - accuracy: 0.9043 - val_loss: 0.2185 - val_accuracy: 0.8993\n",
      "Epoch 27/100\n",
      "8924736/8924787 [============================>.] - ETA: 0s - loss: 0.2075 - accuracy: 0.9046\n",
      "Epoch 00027: ReduceLROnPlateau reducing learning rate to 0.0016807000851258634.\n",
      "8924787/8924787 [==============================] - 1604s 180us/sample - loss: 0.2075 - accuracy: 0.9046 - val_loss: 0.2190 - val_accuracy: 0.8993\n",
      "Epoch 28/100\n",
      "8924787/8924787 [==============================] - 1581s 177us/sample - loss: 0.2057 - accuracy: 0.9054 - val_loss: 0.2195 - val_accuracy: 0.8985\n",
      "Epoch 29/100\n",
      "8924787/8924787 [==============================] - 1580s 177us/sample - loss: 0.2052 - accuracy: 0.9056 - val_loss: 0.2177 - val_accuracy: 0.8998\n",
      "Epoch 30/100\n",
      "8924787/8924787 [==============================] - 1605s 180us/sample - loss: 0.2049 - accuracy: 0.9058 - val_loss: 0.2187 - val_accuracy: 0.8996\n",
      "Epoch 31/100\n",
      "8924787/8924787 [==============================] - 1610s 180us/sample - loss: 0.2044 - accuracy: 0.9060 - val_loss: 0.2173 - val_accuracy: 0.8999\n",
      "Epoch 32/100\n",
      "8924544/8924787 [============================>.] - ETA: 0s - loss: 0.2040 - accuracy: 0.9062\n",
      "Epoch 00032: ReduceLROnPlateau reducing learning rate to 0.0011764900758862494.\n",
      "8924787/8924787 [==============================] - 1594s 179us/sample - loss: 0.2040 - accuracy: 0.9062 - val_loss: 0.2173 - val_accuracy: 0.9001\n",
      "Epoch 33/100\n",
      "8924787/8924787 [==============================] - 1582s 177us/sample - loss: 0.2025 - accuracy: 0.9069 - val_loss: 0.2176 - val_accuracy: 0.8999\n",
      "Epoch 34/100\n",
      "8924787/8924787 [==============================] - 1606s 180us/sample - loss: 0.2021 - accuracy: 0.9072 - val_loss: 0.2173 - val_accuracy: 0.9001\n",
      "Epoch 35/100\n",
      "8924787/8924787 [==============================] - 1620s 182us/sample - loss: 0.2018 - accuracy: 0.9073 - val_loss: 0.2177 - val_accuracy: 0.8999\n",
      "Epoch 36/100\n",
      "8924787/8924787 [==============================] - 1614s 181us/sample - loss: 0.2015 - accuracy: 0.9074 - val_loss: 0.2175 - val_accuracy: 0.9000\n",
      "Epoch 37/100\n",
      "8924608/8924787 [============================>.] - ETA: 0s - loss: 0.2012 - accuracy: 0.9075\n",
      "Epoch 00037: ReduceLROnPlateau reducing learning rate to 0.0008235430694185197.\n",
      "8924787/8924787 [==============================] - 1577s 177us/sample - loss: 0.2012 - accuracy: 0.9075 - val_loss: 0.2172 - val_accuracy: 0.9002\n",
      "Epoch 38/100\n",
      "8924787/8924787 [==============================] - 1585s 178us/sample - loss: 0.2000 - accuracy: 0.9081 - val_loss: 0.2172 - val_accuracy: 0.9002\n",
      "Epoch 39/100\n",
      "8924787/8924787 [==============================] - 1607s 180us/sample - loss: 0.1996 - accuracy: 0.9083 - val_loss: 0.2172 - val_accuracy: 0.9003\n",
      "Epoch 40/100\n",
      "8924787/8924787 [==============================] - 1592s 178us/sample - loss: 0.1994 - accuracy: 0.9085 - val_loss: 0.2173 - val_accuracy: 0.9003\n",
      "Epoch 41/100\n",
      "8924787/8924787 [==============================] - 1586s 178us/sample - loss: 0.1992 - accuracy: 0.9085 - val_loss: 0.2174 - val_accuracy: 0.9000\n",
      "Epoch 42/100\n",
      "8924768/8924787 [============================>.] - ETA: 0s - loss: 0.1990 - accuracy: 0.9087\n",
      "Epoch 00042: ReduceLROnPlateau reducing learning rate to 0.0005764801404438912.\n",
      "8924787/8924787 [==============================] - 1601s 179us/sample - loss: 0.1990 - accuracy: 0.9087 - val_loss: 0.2171 - val_accuracy: 0.9001\n",
      "Epoch 43/100\n",
      "8924787/8924787 [==============================] - 1603s 180us/sample - loss: 0.1979 - accuracy: 0.9091 - val_loss: 0.2169 - val_accuracy: 0.9003\n",
      "Epoch 44/100\n",
      "8924787/8924787 [==============================] - 1613s 181us/sample - loss: 0.1977 - accuracy: 0.9092 - val_loss: 0.2173 - val_accuracy: 0.9003\n",
      "Epoch 45/100\n",
      "8924787/8924787 [==============================] - 1616s 181us/sample - loss: 0.1975 - accuracy: 0.9094 - val_loss: 0.2170 - val_accuracy: 0.9002\n",
      "Epoch 46/100\n",
      "8924787/8924787 [==============================] - 1580s 177us/sample - loss: 0.1973 - accuracy: 0.9094 - val_loss: 0.2169 - val_accuracy: 0.9005\n",
      "Epoch 47/100\n",
      "8924672/8924787 [============================>.] - ETA: 0s - loss: 0.1971 - accuracy: 0.9095\n",
      "Epoch 00047: ReduceLROnPlateau reducing learning rate to 0.0004035360820125788.\n",
      "8924787/8924787 [==============================] - 1582s 177us/sample - loss: 0.1971 - accuracy: 0.9095 - val_loss: 0.2174 - val_accuracy: 0.9003\n",
      "Epoch 48/100\n",
      "8924787/8924787 [==============================] - 1604s 180us/sample - loss: 0.1964 - accuracy: 0.9099 - val_loss: 0.2170 - val_accuracy: 0.9005\n",
      "Epoch 49/100\n",
      "8924787/8924787 [==============================] - 1610s 180us/sample - loss: 0.1962 - accuracy: 0.9099 - val_loss: 0.2173 - val_accuracy: 0.9004\n",
      "Epoch 50/100\n",
      "8924787/8924787 [==============================] - 1592s 178us/sample - loss: 0.1960 - accuracy: 0.9101 - val_loss: 0.2176 - val_accuracy: 0.9002\n",
      "Epoch 51/100\n",
      "8924787/8924787 [==============================] - 1587s 178us/sample - loss: 0.1959 - accuracy: 0.9101 - val_loss: 0.2169 - val_accuracy: 0.9006\n",
      "Epoch 52/100\n",
      "8924576/8924787 [============================>.] - ETA: 0s - loss: 0.1958 - accuracy: 0.9102\n",
      "Epoch 00052: ReduceLROnPlateau reducing learning rate to 0.0002824752533342689.\n",
      "8924787/8924787 [==============================] - 1602s 180us/sample - loss: 0.1958 - accuracy: 0.9102 - val_loss: 0.2170 - val_accuracy: 0.9005\n",
      "Epoch 53/100\n",
      "8924787/8924787 [==============================] - 1617s 181us/sample - loss: 0.1952 - accuracy: 0.9104 - val_loss: 0.2170 - val_accuracy: 0.9005\n",
      "Epoch 54/100\n",
      "8924787/8924787 [==============================] - 1616s 181us/sample - loss: 0.1951 - accuracy: 0.9106 - val_loss: 0.2173 - val_accuracy: 0.9005\n",
      "Epoch 55/100\n",
      "8924787/8924787 [==============================] - 1590s 178us/sample - loss: 0.1950 - accuracy: 0.9105 - val_loss: 0.2171 - val_accuracy: 0.9003\n",
      "Epoch 56/100\n",
      "8924787/8924787 [==============================] - 1584s 177us/sample - loss: 0.1949 - accuracy: 0.9106 - val_loss: 0.2170 - val_accuracy: 0.9004\n",
      "Epoch 57/100\n",
      "8924608/8924787 [============================>.] - ETA: 0s - loss: 0.1947 - accuracy: 0.9107\n",
      "Epoch 00057: ReduceLROnPlateau reducing learning rate to 0.0001977326814085245.\n",
      "8924787/8924787 [==============================] - 1596s 179us/sample - loss: 0.1947 - accuracy: 0.9107 - val_loss: 0.2171 - val_accuracy: 0.9005\n",
      "Epoch 58/100\n",
      "8924787/8924787 [==============================] - 1611s 181us/sample - loss: 0.1943 - accuracy: 0.9109 - val_loss: 0.2172 - val_accuracy: 0.9005\n",
      "Epoch 59/100\n",
      "8924787/8924787 [==============================] - 1593s 178us/sample - loss: 0.1943 - accuracy: 0.9109 - val_loss: 0.2171 - val_accuracy: 0.9005\n",
      "Epoch 60/100\n",
      "8924787/8924787 [==============================] - 1582s 177us/sample - loss: 0.1942 - accuracy: 0.9109 - val_loss: 0.2175 - val_accuracy: 0.9005\n",
      "Epoch 61/100\n",
      "8924787/8924787 [==============================] - 1589s 178us/sample - loss: 0.1941 - accuracy: 0.9110 - val_loss: 0.2171 - val_accuracy: 0.9005\n",
      "Epoch 00061: early stopping\n"
     ]
    }
   ],
   "source": [
    "#Train/Validation the CNN\n",
    "history = classifierhh.fit(x = X, y = y, epochs = 100, callbacks =[reduce_lr, early_stop], validation_split = 0.3)"
   ]
  },
  {
   "cell_type": "code",
   "execution_count": 19,
   "metadata": {},
   "outputs": [],
   "source": [
    "#Save the CNN model to reload in the future and classify independent SAR scenes\n",
    "classifierhh.save(r'E:\\Git\\SeaIceCNN\\Data\\SeaIceCNN_20210806.h5')"
   ]
  },
  {
   "cell_type": "code",
   "execution_count": 21,
   "metadata": {},
   "outputs": [],
   "source": [
    "#Save the history results of the training/validation\n",
    "import pickle\n",
    "with open(r'E:\\Git\\SeaIceCNN\\Data\\SeaIceCNN_20210806.pkl','wb') as sfile:\n",
    "    pickle.dump(history.history, sfile)"
   ]
  },
  {
   "cell_type": "markdown",
   "metadata": {},
   "source": [
    "# Accuracy assessment of training validation data"
   ]
  },
  {
   "cell_type": "code",
   "execution_count": 22,
   "metadata": {},
   "outputs": [],
   "source": [
    "# Predicting the classes using the trained model\n",
    "Y = classifierhh.predict(X)[:,0]"
   ]
  },
  {
   "cell_type": "code",
   "execution_count": 23,
   "metadata": {},
   "outputs": [
    {
     "name": "stdout",
     "output_type": "stream",
     "text": [
      "Ice[training]:\n",
      "0.938\n",
      "Ice[validation]:\n",
      "0.927\n",
      "Water[validation]:\n",
      "0.865\n",
      "Water[training]:\n",
      "0.878\n",
      "Overall[training]:\n",
      "0.912\n",
      "Overall[validation]:\n",
      "0.9\n",
      "Ice[all]:\n",
      "0.936\n",
      "Water[all]:\n",
      "0.876\n",
      "Overall[all]:\n",
      "0.909\n"
     ]
    }
   ],
   "source": [
    "# Determining the index split\n",
    "i = int(0.8*len(y))\n",
    "# Training accuracy for ice\n",
    "print('Ice[training]:')\n",
    "print(np.around(np.sum(np.abs(Y[:i][y[:i]==0]-y[:i][y[:i]==0])<=0.5)/(len(y[:i][y[:i]==0])),decimals = 3))\n",
    "# Validation accuracy for ice\n",
    "print('Ice[validation]:')\n",
    "print(np.around(np.sum(np.abs(Y[i:][y[i:]==0]-y[i:][y[i:]==0])<=0.5)/(len(y[i:][y[i:]==0])),decimals = 3))\n",
    "# Validation accuracy for water\n",
    "print('Water[validation]:')\n",
    "print(np.around(np.sum(np.abs(Y[i:][y[i:]==1]-y[i:][y[i:]==1])<=0.5)/(len(y[i:][y[i:]==1])),decimals = 3))\n",
    "# Training accuracy for water\n",
    "print('Water[training]:')\n",
    "print(np.around(np.sum(np.abs(Y[:i][y[:i]==1]-y[:i][y[:i]==1])<=0.5)/(len(y[:i][y[:i]==1])),decimals = 3))\n",
    "# Total training accuracy\n",
    "print('Overall[training]:')\n",
    "print(np.around(np.sum(np.abs(Y[:i]-y[:i])<=0.5)/(len(y[:i])),decimals = 3))\n",
    "# Total validation accuracy\n",
    "print('Overall[validation]:')\n",
    "print(np.around(np.sum(np.abs(Y[i:]-y[i:])<=0.5)/(len(y[i:])),decimals = 3))\n",
    "# Total accuracy for ice\n",
    "print('Ice[all]:')\n",
    "print(np.around(np.sum(np.abs(Y[y==0]-y[y==0])<=0.5)/len(y[y==0]),decimals = 3))\n",
    "# Total accuracy for water\n",
    "print('Water[all]:')\n",
    "print(np.around(np.sum(np.abs(Y[y==1]-y[y==1])<=0.5)/len(y[y==1]),decimals = 3))\n",
    "# Total accuracy for both classes\n",
    "print('Overall[all]:')\n",
    "print(np.around(np.sum(np.abs(Y-y)<=0.5)/len(y),decimals = 3))"
   ]
  },
  {
   "cell_type": "code",
   "execution_count": null,
   "metadata": {},
   "outputs": [],
   "source": []
  }
 ],
 "metadata": {
  "kernelspec": {
   "display_name": "Python 3",
   "language": "python",
   "name": "python3"
  },
  "language_info": {
   "codemirror_mode": {
    "name": "ipython",
    "version": 3
   },
   "file_extension": ".py",
   "mimetype": "text/x-python",
   "name": "python",
   "nbconvert_exporter": "python",
   "pygments_lexer": "ipython3",
   "version": "3.6.7"
  }
 },
 "nbformat": 4,
 "nbformat_minor": 2
}
