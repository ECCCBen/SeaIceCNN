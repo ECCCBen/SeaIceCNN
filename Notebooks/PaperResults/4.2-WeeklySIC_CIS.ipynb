{
 "cells": [
  {
   "cell_type": "markdown",
   "metadata": {},
   "source": [
    "# This code calculates the total ice concentration for Coronation Gulf from the weekly CIS regional charts.\n",
    "\n",
    "Note: the E00 charts have been converted to shapefile to the SIGRID 2004 format."
   ]
  },
  {
   "cell_type": "code",
   "execution_count": null,
   "metadata": {},
   "outputs": [],
   "source": [
    "from os import listdir\n",
    "import numpy as np\n",
    "import geopandas as gp\n",
    "from datetime import datetime\n",
    "import pandas as pd"
   ]
  },
  {
   "cell_type": "markdown",
   "metadata": {},
   "source": [
    "Finds all the SIGRID shapefiles<br>\n",
    "Note: CIS climatology files can be downloaded here: https://iceweb1.cis.ec.gc.ca/Archive/page1.xhtml?lang=en"
   ]
  },
  {
   "cell_type": "code",
   "execution_count": null,
   "metadata": {},
   "outputs": [],
   "source": [
    "files = [f for f in listdir(r'../../data/SIGRID') if f.endswith('.zip')]"
   ]
  },
  {
   "cell_type": "markdown",
   "metadata": {},
   "source": [
    "Reads the files, clips the Coronation Gulf marine region and calculates the total SIC using GeoPandas"
   ]
  },
  {
   "cell_type": "code",
   "execution_count": null,
   "metadata": {},
   "outputs": [],
   "source": [
    "cg = gp.read_file(r'../../data/Coronation_simple.shp')\n",
    "\n",
    "df = pd.DataFrame({'Date':[],'IceArea(m2)':[],'TotalArea(m2)':[],'SIC':[]})\n",
    "\n",
    "for file in files:\n",
    "    \n",
    "    date = datetime.strptime(file[:-4], '%Y%m%d')\n",
    "    print(date)\n",
    "    \n",
    "    chart = gp.read_file(r'zip://Data/SIGRID/' + file)\n",
    "    if 'CT' in chart.keys():\n",
    "        chart_clip = gp.overlay(chart.dropna(subset=['CT'])[['AREA','CT','geometry']],\n",
    "                                cg.to_crs(chart.crs)[['NAME','geometry']],\n",
    "                                how='intersection')\n",
    "        chart_clip.CT=chart_clip.CT.astype('float32')\n",
    "\n",
    "        icearea = np.sum(np.ceil(chart_clip.CT[(chart_clip.CT>=10) & (chart_clip.CT<=92)]/10)/10*\n",
    "                         chart_clip[(chart_clip.CT>=10) & (chart_clip.CT<=92)].geometry.area)\n",
    "        totarea = chart_clip.geometry.area.sum()\n",
    "\n",
    "        df = df.append(pd.DataFrame({'Date':[date],'IceArea(m2)':[icearea],'TotalArea(m2)':[totarea],\n",
    "                                     'SIC':[icearea/totarea*100]}))\n",
    "    else:\n",
    "        chart_clip = gp.overlay(chart.dropna(subset=['SGD_CT'])[['AREA','SGD_CT','geometry']],\n",
    "                                cg.to_crs(chart.crs)[['NAME','geometry']],\n",
    "                                how='intersection')\n",
    "        chart_clip.SGD_CT=chart_clip.SGD_CT.astype('float32')\n",
    "\n",
    "        icearea = np.sum(np.ceil(chart_clip.SGD_CT[(chart_clip.SGD_CT>=10) & (chart_clip.SGD_CT<=92)]/10)/10*\n",
    "                         chart_clip[(chart_clip.SGD_CT>=10) & (chart_clip.SGD_CT<=92)].geometry.area)\n",
    "        totarea = np.sum(chart_clip.geometry.area.sum())\n",
    "\n",
    "        df = df.append(pd.DataFrame({'Date':[date],'IceArea(m2)':[icearea],'TotalArea(m2)':[totarea],\n",
    "                                     'SIC':[icearea/totarea*100]}))\n",
    "    "
   ]
  },
  {
   "cell_type": "markdown",
   "metadata": {},
   "source": [
    "Saves the dataframe to a pickle"
   ]
  },
  {
   "cell_type": "code",
   "execution_count": null,
   "metadata": {},
   "outputs": [],
   "source": [
    "df.to_pickle(r'../../data/WeeklySIC_CIS.pkl')"
   ]
  }
 ],
 "metadata": {
  "kernelspec": {
   "display_name": "Python 3",
   "language": "python",
   "name": "python3"
  },
  "language_info": {
   "codemirror_mode": {
    "name": "ipython",
    "version": 3
   },
   "file_extension": ".py",
   "mimetype": "text/x-python",
   "name": "python",
   "nbconvert_exporter": "python",
   "pygments_lexer": "ipython3",
   "version": "3.6.7"
  }
 },
 "nbformat": 4,
 "nbformat_minor": 2
}
