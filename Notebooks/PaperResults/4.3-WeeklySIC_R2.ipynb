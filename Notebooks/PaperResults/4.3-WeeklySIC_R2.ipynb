{
 "cells": [
  {
   "cell_type": "markdown",
   "metadata": {},
   "source": [
    "## This code reads all the classified RSAT-2 images for Coronation Gulf between 2008 and 2020 and creates weekly mosaics of the mean value of overlaping pixels and the value closest to the valid date of the weekly CIS regional charts (Mondays at 6PM UTC)\n",
    "\n",
    "Note: all RSAT-2 outputs have been projected to the EASE-GRID 2 projection (EPSG:6931), i.e. all pixels have the same size which was set to the pixel spacing of RSAT-2 SCWA images (50m) and are perfectly aligned."
   ]
  },
  {
   "cell_type": "code",
   "execution_count": null,
   "metadata": {},
   "outputs": [],
   "source": [
    "from os import walk\n",
    "from os.path import join\n",
    "import numpy as np\n",
    "import gdal\n",
    "from datetime import datetime, timedelta\n",
    "import pandas as pd"
   ]
  },
  {
   "cell_type": "markdown",
   "metadata": {},
   "source": [
    "Reads all the files and generates a datetime array associated with the filenames to sort the images by weeks"
   ]
  },
  {
   "cell_type": "code",
   "execution_count": null,
   "metadata": {},
   "outputs": [],
   "source": [
    "indir = r'../../data/output'\n",
    "outdir = r'../../data'\n",
    "\n",
    "images = [join(root, f) for root, dirs, files in walk(indir) for f in files if f.endswith('.tif') and f.startswith('S0')]\n",
    "dates = pd.DataFrame({'Dates':[]})\n",
    "for image in images:\n",
    "    \n",
    "    dates = dates.append(pd.Series({'Dates':pd.to_datetime(datetime.strptime(image.split('_')[8] + image.split('_')[9], '%Y%m%d%H%M%S'))}), ignore_index = True)\n",
    "\n",
    "dates['Filenames'] = images\n",
    "\n",
    "del images\n"
   ]
  },
  {
   "cell_type": "markdown",
   "metadata": {},
   "source": [
    "Initiates the first week and the dataframe"
   ]
  },
  {
   "cell_type": "code",
   "execution_count": null,
   "metadata": {},
   "outputs": [],
   "source": [
    "curday = datetime(2008,7,14,23,0,0)\n",
    "\n",
    "weeklydf = pd.DataFrame({'Date (YYYY-MM-DD)':[], '# Images': [], 'Total # of Pixels': [], \n",
    "                         'Mean # Ice Pixels': [], 'Mean Ice Concentration (%)': [],\n",
    "                         'Mosaic # Ice Pixels': [], 'Mosaic Ice Concentration (%)': []})"
   ]
  },
  {
   "cell_type": "markdown",
   "metadata": {},
   "source": [
    "Until the date is below July 31 2020, this code reads the images for a given week, mosaics the images, calculates the number of pixels and the total concentration for Coronation Gulf. The mosaiced outputs are saved as a gif."
   ]
  },
  {
   "cell_type": "code",
   "execution_count": null,
   "metadata": {},
   "outputs": [],
   "source": [
    "while curday < datetime(2020,7,31):\n",
    "\n",
    "    print(curday.strftime('%Y-%m-%d'))\n",
    "    \n",
    "    tempdates = dates.loc[(dates.Dates <= curday) & (dates.Dates > curday - timedelta(7))].reset_index()\n",
    "    tempdates.sort_values(by=['Dates'])\n",
    "    \n",
    "    if not tempdates.Filenames.empty:\n",
    "        \n",
    "        \n",
    "        \n",
    "        for filename in tempdates.Filenames:\n",
    "            \n",
    "            if tempdates.Filenames[tempdates.Filenames == filename].index == 0:\n",
    "                \n",
    "                tempimg = gdal.Open(join(indir, filename))\n",
    "                temparray = tempimg.GetRasterBand(1).ReadAsArray()\n",
    "                mosaicarray = tempimg.GetRasterBand(1).ReadAsArray()\n",
    "                \n",
    "            else:\n",
    "                \n",
    "                tempimg = None\n",
    "                del tempimg\n",
    "                \n",
    "                tempimg = gdal.Open(join(indir, filename))\n",
    "                newtemparray = tempimg.GetRasterBand(1).ReadAsArray()\n",
    "                temparray = np.dstack([temparray, newtemparray])\n",
    "                mosaicarray[np.isnan(newtemparray) == False] = newtemparray[np.isnan(newtemparray) == False]\n",
    "                \n",
    "                del newtemparray\n",
    "        \n",
    "        if len(temparray.shape) == 3:\n",
    "        \n",
    "            meanarray = np.nanmean(temparray, axis=2)\n",
    "            \n",
    "        else:\n",
    "            \n",
    "            meanarray = temparray\n",
    "            \n",
    "        del temparray\n",
    "        \n",
    "        print('Updating database...')\n",
    "        \n",
    "        tempseries = pd.Series({'Date (YYYY-MM-DD)': curday.strftime('%Y-%m-%d'),\n",
    "                                '# Images': len(meanarray[np.isnan(meanarray)==False]),\n",
    "                                'Total # of Pixels': len(meanarray[np.isnan(meanarray)==False]),\n",
    "                                'Mean # Ice Pixels': len(meanarray[(np.isnan(meanarray)==False) & (meanarray<=0.5)]),\n",
    "                                'Mean Ice Concentration (%)': (len(meanarray[(np.isnan(meanarray)==False) & (meanarray<=0.5)]) / len(meanarray[np.isnan(meanarray)==False]) * 100),\n",
    "                                'Mosaic # Ice Pixels': len(mosaicarray[(np.isnan(mosaicarray)==False) & (mosaicarray<=0.5)]),\n",
    "                                'Mosaic Ice Concentration (%)': (len(mosaicarray[(np.isnan(mosaicarray)==False) & (mosaicarray<=0.5)]) / len(mosaicarray[np.isnan(meanarray)==False]) * 100 )})\n",
    "                                \n",
    "        weeklydf = weeklydf.append(tempseries, ignore_index = True)\n",
    "        \n",
    "        print('Creating Mean Image...')\n",
    "        \n",
    "        driver = gdal.GetDriverByName('GTiff')\n",
    "        driver.Register()    \n",
    "        outmeanimg = driver.Create(join(outdir, 'WeeklyMean_' + curday.strftime('%Y%m%d') + '.tif'),\n",
    "                        np.shape(meanarray)[1], np.shape(meanarray)[0], 1, gdal.GDT_Float32)\n",
    "        \n",
    "        geoTransform = tempimg.GetGeoTransform()\n",
    "        outmeanimg.SetGeoTransform(geoTransform)\n",
    "        proj = tempimg.GetProjection()\n",
    "        outmeanimg.SetProjection(proj)\n",
    "        \n",
    "        outband = outmeanimg.GetRasterBand(1)\n",
    "        outband.WriteArray(meanarray, 0, 0)\n",
    "        \n",
    "        outband= None\n",
    "        outmeanimg = None\n",
    "        driver = None\n",
    "        meanarray = None\n",
    "        \n",
    "        del outband, outmeanimg, driver\n",
    "    \n",
    "        print('Creating Mosaic Image...')\n",
    "    \n",
    "        driver = gdal.GetDriverByName('GTiff')\n",
    "        driver.Register()    \n",
    "        outmosaicimg = driver.Create(join(outdir, 'WeeklyMosaic_' + curday.strftime('%Y%m%d') + '.tif'),\n",
    "                        np.shape(mosaicarray)[1], np.shape(mosaicarray)[0], 1, gdal.GDT_Float32)\n",
    "        \n",
    "        geoTransform = tempimg.GetGeoTransform()\n",
    "        outmosaicimg.SetGeoTransform(geoTransform)\n",
    "        proj = tempimg.GetProjection()\n",
    "        outmosaicimg.SetProjection(proj)\n",
    "        \n",
    "        outband = outmosaicimg.GetRasterBand(1)\n",
    "        outband.WriteArray(mosaicarray, 0, 0)\n",
    "        \n",
    "        outband= None\n",
    "        outmosaicimg = None\n",
    "        driver = None\n",
    "        mosaicarray = None\n",
    "        tempimg = None\n",
    "        \n",
    "        del tempimg, outband, outmosaicimg, driver, mosaicarray, tempseries, tempdates\n",
    "        \n",
    "    else:\n",
    "        \n",
    "        print('No images for this week, updating database...')\n",
    "        \n",
    "        tempseries = pd.Series({'Date (YYYY-MM-DD)': curday.strftime('%Y-%m-%d'),\n",
    "                                '# Images': 0,\n",
    "                                'Total # of Pixels': np.nan,\n",
    "                                'Mean # Ice Pixels': np.nan,\n",
    "                                'Mean Ice Concentration (%)': np.nan,\n",
    "                                'Mosaic # Ice Pixels': np.nan,\n",
    "                                'Mosaic Ice Concentration (%)': np.nan})\n",
    "                                \n",
    "        weeklydf = weeklydf.append(tempseries, ignore_index = True)\n",
    "        \n",
    "        del tempseries, tempdates\n",
    "    \n",
    "    curday += timedelta(7)"
   ]
  },
  {
   "cell_type": "markdown",
   "metadata": {},
   "source": [
    "Saves the dataframe as a pickle"
   ]
  },
  {
   "cell_type": "code",
   "execution_count": null,
   "metadata": {},
   "outputs": [],
   "source": [
    "weeklydf.to_pickle(join(outdir, '../../data/WeeklySIC_RSAT-2.pkl'))"
   ]
  }
 ],
 "metadata": {
  "kernelspec": {
   "display_name": "Python 3",
   "language": "python",
   "name": "python3"
  },
  "language_info": {
   "codemirror_mode": {
    "name": "ipython",
    "version": 3
   },
   "file_extension": ".py",
   "mimetype": "text/x-python",
   "name": "python",
   "nbconvert_exporter": "python",
   "pygments_lexer": "ipython3",
   "version": "3.6.7"
  }
 },
 "nbformat": 4,
 "nbformat_minor": 2
}
