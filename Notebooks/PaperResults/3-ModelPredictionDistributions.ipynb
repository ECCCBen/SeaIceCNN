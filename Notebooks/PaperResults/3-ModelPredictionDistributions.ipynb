{
 "cells": [
  {
   "cell_type": "markdown",
   "metadata": {},
   "source": [
    "## This code reads the unrandomized training/validation/test datasets and classifies it with the trained CNN and plots the distributions of the CNN predictions (0=ice; 1=water)"
   ]
  },
  {
   "cell_type": "code",
   "execution_count": null,
   "metadata": {},
   "outputs": [],
   "source": [
    "from matplotlib import pyplot as plt\n",
    "import pandas as pd\n",
    "import numpy as np"
   ]
  },
  {
   "cell_type": "markdown",
   "metadata": {},
   "source": [
    "Loads the dataframe where the CNN outputs of classified samples are stored"
   ]
  },
  {
   "cell_type": "code",
   "execution_count": null,
   "metadata": {},
   "outputs": [],
   "source": [
    "dfice = pd.read_pickle(r'../../data/AllIceDF.pkl')\n",
    "dfwater = pd.read_pickle(r'../../data/AllWaterDF.pkl')"
   ]
  },
  {
   "cell_type": "markdown",
   "metadata": {},
   "source": [
    "Group the dataframes by bins of incidence angles"
   ]
  },
  {
   "cell_type": "code",
   "execution_count": null,
   "metadata": {},
   "outputs": [],
   "source": [
    "bins = np.arange(19, 51)\n",
    "\n",
    "wat_ang = dfwater.groupby(pd.cut(dfwater['Angle'],bins=bins))\n",
    "ice_ang = dfice.groupby(pd.cut(dfice['Angle'],bins=bins))"
   ]
  },
  {
   "cell_type": "markdown",
   "metadata": {},
   "source": [
    "## Prediction box plot\n",
    "Note: prediction for ice are the inverse of water since it is a binary output\n",
    "\n",
    "$Prediction_{CNN} = P_{water}$ where $P_{water}$ is the probability of the sample to be in the water class\n",
    "$P_{ice} = 1 - P_{water} = 1 - Prediction_{CNN}$\n",
    "\n",
    "The closer the CNN prediction ($Prediciton_{CNN}$) is to 1, the more probable the sample is in the water class and the closer it is to 0, the more pobable the sample is ice. If in fact, the sample is water, and the prediction is 1, this is a perfect guess. Same goes for ice, if the sample is ice and the prediction is 0, this is a perfect accuarcy.\n",
    "\n",
    "For this study an accurate prediction for ice is if $Prediction_{CNN}\\leq0.5$ \n",
    "and an accurate prediction for water is if $Prediction_{CNN}\\geq0.5$\n",
    "\n",
    "## Figure: Distribution of CNN predictions for each degree of incidence angle"
   ]
  },
  {
   "cell_type": "code",
   "execution_count": null,
   "metadata": {},
   "outputs": [],
   "source": [
    "fig, ax5 = plt.subplots(figsize=(15,10))\n",
    "bp1 = ax5.boxplot(1-ice_ang['cnn_prediction'].unique(), whis = [5, 95], sym = '', \n",
    "            labels = bins[0:-1], positions = np.arange(0.8, len(bins)-0.2, 1), \n",
    "            widths = 0.3, patch_artist = True)\n",
    "bp2 = ax5.boxplot(wat_ang['cnn_prediction'].unique(), whis = [5, 95], sym = '',\n",
    "            labels = bins[0:-1], positions = np.arange(1.2, len(bins), 1),\n",
    "            widths = 0.3, patch_artist = True)\n",
    "\n",
    "for box in bp1['boxes']:\n",
    "    box.set(facecolor = 'green')\n",
    "    \n",
    "\n",
    "for box in bp2['boxes']:\n",
    "    box.set(facecolor = 'blue')\n",
    "ax5.set_xlim(0,31)\n",
    "ax5.set_xticks(np.arange(0, len(bins)+2,2))\n",
    "ax5.set_xticklabels(np.arange(18, 51,2).tolist(), fontweight = 'bold', fontsize = 22)\n",
    "ax5.set_ylim(0,1)\n",
    "ax5.set_yticklabels(np.around(np.arange(0,1.2,0.2),decimals=2).tolist(), fontweight = 'bold', fontsize = 22)\n",
    "ax5.set_ylabel(r'Model Prediction', fontsize = 26, fontweight = 'bold')\n",
    "ax5.set_xlabel(r'Incidence Angle ($^O$)', fontsize = 26, fontweight = 'bold')\n",
    "ax5.legend([bp1[\"boxes\"][0], bp2[\"boxes\"][0]], ['Ice', 'Water'], loc='lower left', fontsize=26)\n",
    "\n",
    "#fig.savefig(../../data/figures/Figure6.png)"
   ]
  },
  {
   "cell_type": "markdown",
   "metadata": {},
   "source": [
    "<center><img src=\"../../data/figures/Figure6.png\" height=\"500px\"></center>\n",
    "\n",
    "<center>Figure 6. 4-band input model (Table 4) predictions distribution per incidence angle. Orange line is the median, boxes correspond to the 1st and 3rd quartile and whiskers represent the 5th and 95th percentile.</center>"
   ]
  }
 ],
 "metadata": {
  "kernelspec": {
   "display_name": "Python 3",
   "language": "python",
   "name": "python3"
  },
  "language_info": {
   "codemirror_mode": {
    "name": "ipython",
    "version": 3
   },
   "file_extension": ".py",
   "mimetype": "text/x-python",
   "name": "python",
   "nbconvert_exporter": "python",
   "pygments_lexer": "ipython3",
   "version": "3.6.7"
  }
 },
 "nbformat": 4,
 "nbformat_minor": 2
}
