{
 "cells": [
  {
   "cell_type": "markdown",
   "metadata": {},
   "source": [
    "# This code reads all the ASI SIC geotiffs, clips them to the Coronation Gulf marine regions and calculates the total SIC for each day and weekly"
   ]
  },
  {
   "cell_type": "code",
   "execution_count": null,
   "metadata": {},
   "outputs": [],
   "source": [
    "import subprocess\n",
    "from os.path import join\n",
    "from os import listdir\n",
    "import gdal\n",
    "import numpy as np\n",
    "import pandas as pd\n",
    "from datetime import datetime, timedelta"
   ]
  },
  {
   "cell_type": "markdown",
   "metadata": {},
   "source": [
    "Function to convert julian days into datetime"
   ]
  },
  {
   "cell_type": "code",
   "execution_count": null,
   "metadata": {},
   "outputs": [],
   "source": [
    "def jdtodatestd (jdate):\n",
    "    fmt = '%Y%j'\n",
    "    datestd = datetime.strptime(jdate, fmt).date()\n",
    "    return(datestd)"
   ]
  },
  {
   "cell_type": "markdown",
   "metadata": {},
   "source": [
    "Finds all the geotiffs and initiates the daily dataframe<br>\n",
    "Note: ASI AMSR data can be downloaded here: https://seaice.uni-bremen.de/sea-ice-concentration/amsre-amsr2/"
   ]
  },
  {
   "cell_type": "code",
   "execution_count": null,
   "metadata": {},
   "outputs": [],
   "source": [
    "indir = r'../../data/AMSR'\n",
    "\n",
    "files = [f for f in listdir(indir) if f.endswith('-v5.4.tif')]\n",
    "\n",
    "df = pd.DataFrame({'Date': [], 'Filename': [], 'Mean SIC (%)': []})"
   ]
  },
  {
   "cell_type": "markdown",
   "metadata": {},
   "source": [
    "Reads the date from the filename, clips the Coronation Gulf AOI and calculates the total daily SIC"
   ]
  },
  {
   "cell_type": "code",
   "execution_count": null,
   "metadata": {},
   "outputs": [],
   "source": [
    "for f in files:\n",
    "    \n",
    "    datestr = f.split('-')[-2]\n",
    "    \n",
    "    if len(datestr) == 8:\n",
    "        \n",
    "        date = datetime.strptime(datestr, '%Y%m%d')\n",
    "        \n",
    "    elif len(datestr) == 7:\n",
    "        \n",
    "        date = jdtodatestd(datestr)\n",
    "    \n",
    "    print(date)\n",
    "    outfile = join(indir, 'clip', f)\n",
    "    \n",
    "    subprocess.call('gdalwarp -t_srs EPSG:6931 -dstnodata 255 -overwrite -cutline G:\\Shapefile\\CoronationHR.shp -crop_to_cutline ' + join(indir,f) + ' ' + outfile)\n",
    "    \n",
    "    img = gdal.Open(outfile)\n",
    "    sic = img.GetRasterBand(1).ReadAsArray()\n",
    "    mean_sic = np.mean(sic[sic<=100])\n",
    "    \n",
    "    dftemp = pd.DataFrame({'Date': [date], 'Filename': [f], 'Mean SIC (%)': [mean_sic]})\n",
    "    \n",
    "    df = df.append(dftemp, ignore_index = True)"
   ]
  },
  {
   "cell_type": "markdown",
   "metadata": {},
   "source": [
    "Saves the dataframe to a pickle"
   ]
  },
  {
   "cell_type": "code",
   "execution_count": null,
   "metadata": {},
   "outputs": [],
   "source": [
    "df.to_pickle(r'../../data/DailySIC_ASI.pkl')"
   ]
  },
  {
   "cell_type": "markdown",
   "metadata": {},
   "source": [
    "Creates a datetime dataframe associated to each filename to sort files by weeks"
   ]
  },
  {
   "cell_type": "code",
   "execution_count": null,
   "metadata": {},
   "outputs": [],
   "source": [
    "dates = pd.DataFrame({'Dates':[], 'Filenames':[]})\n",
    "\n",
    "for file in files:\n",
    "    \n",
    "    datestr = file.split('-')[-2]\n",
    "    \n",
    "    if len(datestr) == 8:\n",
    "        \n",
    "        date = datetime.strptime(datestr, '%Y%m%d')\n",
    "        \n",
    "    elif len(datestr) == 7:\n",
    "        \n",
    "        date = jdtodatestd(datestr)\n",
    "        \n",
    "    dates = dates.append(pd.DataFrame({'Dates':[date],'Filenames':[file]}),ignore_index=True)"
   ]
  },
  {
   "cell_type": "markdown",
   "metadata": {},
   "source": [
    "Calculates the weekly SIC (mean of overlapping pixels or closest to CIS chart valid time)"
   ]
  },
  {
   "cell_type": "code",
   "execution_count": null,
   "metadata": {},
   "outputs": [],
   "source": [
    "curday = datetime(2008,7,7,0,0,0)\n",
    "\n",
    "weeklydf = pd.DataFrame({'Date (YYYY-MM-DD)':[], \n",
    "                         'Mean Ice Concentration (%)': [],\n",
    "                         'Mosaic Ice Concentration (%)': [],\n",
    "                         'Classified Ice Concentration (%)': []})\n",
    "\n",
    "while curday < datetime(2020,7,31):\n",
    "    \n",
    "    print(curday.strftime('%Y-%m-%d'))\n",
    "    \n",
    "    tempdates = dates.loc[(dates.Dates <= curday) & (dates.Dates > curday - timedelta(7))].reset_index()\n",
    "    tempdates = tempdates.sort_values(by=['Dates'])\n",
    "    \n",
    "    if not tempdates.Filenames.empty:\n",
    "        \n",
    "        tempimg = gdal.Open(join(indir,tempdates.iloc[-1].Filenames))\n",
    "        mosaicarray = tempimg.GetRasterBand(1).ReadAsArray()\n",
    "        temparray = tempimg.GetRasterBand(1).ReadAsArray()\n",
    "    \n",
    "        for filename in tempdates.Filenames[:-1]:\n",
    "                \n",
    "            tempimg = None\n",
    "            del tempimg\n",
    "\n",
    "            tempimg = gdal.Open(join(indir, filename))\n",
    "            newtemparray = tempimg.GetRasterBand(1).ReadAsArray()\n",
    "            temparray = np.dstack([temparray, newtemparray])\n",
    "\n",
    "            del newtemparray\n",
    "            \n",
    "        if len(temparray.shape) == 3:\n",
    "\n",
    "            meanarray = np.nanmean(temparray, axis=2)\n",
    "\n",
    "        else:\n",
    "\n",
    "            meanarray = temparray\n",
    "\n",
    "        del temparray\n",
    "        \n",
    "        \n",
    "        meanras = gdal.GetDriverByName('MEM').CreateCopy('', tempimg)\n",
    "        meanras.GetRasterBand(1).WriteArray(meanarray)\n",
    "        meanras_clip = gdal.Warp('', meanras, \n",
    "                                 options='-dstnodata 150 -cutline Data\\Coronation_simple.shp -of MEM -crop_to_cutline')\n",
    "        sic = meanras_clip.GetRasterBand(1).ReadAsArray()\n",
    "        meansic = np.mean(sic[sic<=100])\n",
    "        if len(sic[sic <= 100])>0:\n",
    "            sicclass = len(sic[(sic <= 100) & (sic>=50)])/len(sic[sic <= 100])\n",
    "        else:\n",
    "            sicclass = np.nan    \n",
    "                              \n",
    "        meanras_clip=None\n",
    "        del meanras_clip, sic\n",
    "                              \n",
    "        meanras.GetRasterBand(1).WriteArray(mosaicarray)\n",
    "        mosaicras_clip = gdal.Warp('', meanras, \n",
    "                                 options='-dstnodata 150 -cutline Data\\Coronation_simple.shp -of MEM -crop_to_cutline')\n",
    "        sic = mosaicras_clip.GetRasterBand(1).ReadAsArray()\n",
    "        mosaicsic = np.mean(sic[sic<=100])\n",
    "        \n",
    "        mosaicras_clip=None\n",
    "        meanras = None\n",
    "        del mosaicras_clip, meanras\n",
    "            \n",
    "        dftemp = pd.DataFrame({'Date (YYYY-MM-DD)':[curday], \n",
    "                               'Mean Ice Concentration (%)': [meansic],\n",
    "                               'Mosaic Ice Concentration (%)': [mosaicsic],\n",
    "                               'Classified Ice Concentration (%)': [sicclass]})\n",
    "    \n",
    "        weeklydf = weeklydf.append(dftemp, ignore_index = True)\n",
    "        \n",
    "    else:\n",
    "        \n",
    "        dftemp = pd.DataFrame({'Date (YYYY-MM-DD)':[curday], \n",
    "                               'Mean Ice Concentration (%)': [np.nan],\n",
    "                               'Mosaic Ice Concentration (%)': [np.nan],\n",
    "                               'Classified Ice Concentration (%)': [np.nan]})\n",
    "    \n",
    "        weeklydf = weeklydf.append(dftemp, ignore_index = True)\n",
    "        \n",
    "    del dftemp, tempdates\n",
    "        \n",
    "    curday += timedelta(7)"
   ]
  },
  {
   "cell_type": "markdown",
   "metadata": {},
   "source": [
    "Saves the dataframe to a pickle"
   ]
  },
  {
   "cell_type": "code",
   "execution_count": null,
   "metadata": {},
   "outputs": [],
   "source": [
    "weeklydf.to_pickle(r'../../data/WeeklySIC_ASI.pkl')"
   ]
  }
 ],
 "metadata": {
  "kernelspec": {
   "display_name": "Python 3",
   "language": "python",
   "name": "python3"
  },
  "language_info": {
   "codemirror_mode": {
    "name": "ipython",
    "version": 3
   },
   "file_extension": ".py",
   "mimetype": "text/x-python",
   "name": "python",
   "nbconvert_exporter": "python",
   "pygments_lexer": "ipython3",
   "version": "3.6.7"
  }
 },
 "nbformat": 4,
 "nbformat_minor": 2
}
