{
 "cells": [
  {
   "cell_type": "markdown",
   "metadata": {},
   "source": [
    "## This code generates the figure for the CNN training/validation accuracy results for each epoch (training iteration)."
   ]
  },
  {
   "cell_type": "code",
   "execution_count": null,
   "metadata": {},
   "outputs": [],
   "source": [
    "from matplotlib import pyplot as plt\n",
    "import matplotlib\n",
    "import pickle\n",
    "import numpy as np"
   ]
  },
  {
   "cell_type": "markdown",
   "metadata": {},
   "source": [
    "Reads the pickle file containing the model history results"
   ]
  },
  {
   "cell_type": "code",
   "execution_count": null,
   "metadata": {},
   "outputs": [],
   "source": [
    "with open(r'../../data/SeaIceCNN.pkl', 'rb') as loadfile:\n",
    "    history = pickle.load(loadfile)"
   ]
  },
  {
   "cell_type": "markdown",
   "metadata": {},
   "source": [
    "## Figure: Evolution of model training and validation accuracy and loss function for each training epoch\n",
    "Generates a double y-axis figure with model accuarcy (green) and model binary cross-entropy loss (blue) for each training epoch"
   ]
  },
  {
   "cell_type": "code",
   "execution_count": null,
   "metadata": {},
   "outputs": [],
   "source": [
    "fig, ax1 = plt.subplots(figsize=(15,10))\n",
    "\n",
    "ax2 = ax1.twinx()\n",
    "l1 = ax2.plot(history['accuracy'], '-g', linewidth = 3, label = 'Training')\n",
    "l2 = ax2.plot(history['val_accuracy'], '--g', linewidth = 3, label = 'Validation')\n",
    "l3 = ax1.plot(history['loss'], '-b', linewidth = 3)\n",
    "l4 = ax1.plot(history['val_loss'], '--b', linewidth = 3)\n",
    "\n",
    "ax1.set_xlabel(r'Epoch', fontsize = 24, fontweight = 'bold')\n",
    "ax2.set_ylabel(r'Model Accuracy', fontsize = 24, fontweight = 'bold', color = 'g')\n",
    "ax1.set_ylabel(r'Binary Cross-Entropy Loss', fontsize = 22,\n",
    "               fontweight = 'bold', color = 'b')\n",
    "ax1.legend([l1[0], l2[0], l3[0], l4[0]], ['Training Accuracy', \n",
    "           'Validation Accuracy', 'Training Loss', 'Validation Loss'], \n",
    "           loc=5, fontsize=24)\n",
    "ax2.set_ylim(0.85,0.92)\n",
    "ax1.set_ylim(0.18,0.30)\n",
    "ax1.set_xlim(0, 60)\n",
    "ax2.set_yticklabels(np.around(np.arange(0.85, 0.93, 0.01), decimals = 2).tolist(), \n",
    "                    fontweight = 'bold', color = 'g', fontsize = 16)\n",
    "ax1.set_yticklabels(np.around(np.arange(0.18, 0.31, 0.02), decimals = 2).tolist(), \n",
    "                    fontweight = 'bold', color = 'b', fontsize = 16)\n",
    "ax1.set_xticklabels(np.arange(0, 61, 10).tolist(), fontweight = 'bold',\n",
    "                    fontsize = 16)\n",
    "\n",
    "fig.savefig(r'../../data/figures/Figure5.png')"
   ]
  },
  {
   "cell_type": "markdown",
   "metadata": {},
   "source": [
    "<center><img src=\"../../Data/figures/Figure5.png\" height=\"500px\"></center>\n",
    "\n",
    "<center>Figure 5. Convolutional neural network training and validation accuracy and binary cross-entropy loss function for each training epoch for the 4-bands input model (Table 4).</center>"
   ]
  },
  {
   "cell_type": "markdown",
   "metadata": {},
   "source": [
    "## Results: Training/Validation/Testing Results\n",
    "\n",
    "\n",
    "| Dataset | Class | Accuracy |\n",
    "|---|---|---|\n",
    "| Training | Ice | 0.938 |\n",
    "| | Water | 0.865 |\n",
    "| | All | 0.912 |\n",
    "| Validation | Ice | 0.927 |\n",
    "| | Water | 0.878 |\n",
    "| | All | 0.900 |\n",
    "| Test | Ice | 0.924 |\n",
    "| | Water | 0.818 |\n",
    "| | All | 0.863 |\n",
    "| All | Ice | 0.935 |\n",
    "| | Water | 0.869 |\n",
    "| | All | 0.906 |"
   ]
  }
 ],
 "metadata": {
  "kernelspec": {
   "display_name": "Python 3",
   "language": "python",
   "name": "python3"
  },
  "language_info": {
   "codemirror_mode": {
    "name": "ipython",
    "version": 3
   },
   "file_extension": ".py",
   "mimetype": "text/x-python",
   "name": "python",
   "nbconvert_exporter": "python",
   "pygments_lexer": "ipython3",
   "version": "3.6.7"
  }
 },
 "nbformat": 4,
 "nbformat_minor": 2
}
