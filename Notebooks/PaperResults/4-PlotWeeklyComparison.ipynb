{
 "cells": [
  {
   "cell_type": "markdown",
   "metadata": {},
   "source": [
    "# This code takes the weekly sea ice concentrations of the ASI passive microwave sea ice concentration products and RSAT-2 CNN ice/water classification and compares them to the CIS weekly regional charts for the area of Coronation Gulf between 2009 and 2020."
   ]
  },
  {
   "cell_type": "code",
   "execution_count": null,
   "metadata": {},
   "outputs": [],
   "source": [
    "import pandas as pd\n",
    "from matplotlib import pyplot as plt\n",
    "from pandas.plotting import register_matplotlib_converters\n",
    "register_matplotlib_converters()\n",
    "from datetime import datetime\n",
    "import numpy as np"
   ]
  },
  {
   "cell_type": "markdown",
   "metadata": {},
   "source": [
    "Read the dataframes"
   ]
  },
  {
   "cell_type": "code",
   "execution_count": null,
   "metadata": {},
   "outputs": [],
   "source": [
    "cis = pd.read_pickle(r'../../data/WeeklySIC_CIS.pkl')\n",
    "asi = pd.read_pickle(r'../../data/WeeklySIC_ASI.pkl')\n",
    "r2 = pd.read_pickle(r'../../data/WeeklySIC_RSAT-2.pkl')"
   ]
  },
  {
   "cell_type": "markdown",
   "metadata": {},
   "source": [
    "## Figure: Time series of the sea ice concentration of Coronation Gulf for the CIS regional charts, the RSAT-2 CNN classification and ASI SIC products."
   ]
  },
  {
   "cell_type": "code",
   "execution_count": null,
   "metadata": {},
   "outputs": [],
   "source": [
    "fig, ax = plt.subplots(figsize=(15,10))\n",
    "\n",
    "ax.fill_between(cis['Date'],cis['SIC'])\n",
    "ax.plot(asi['Date (YYYY-MM-DD)'],asi['Mean Ice Concentration (%)'],color='orange', linewidth=2)\n",
    "ax.plot(pd.to_datetime(r2['Date (YYYY-MM-DD)']),r2['Mean Ice Concentration (%)'],'+k', markeredgewidth=2)\n",
    "ax.set_ylim(0,120)\n",
    "ax.set_xlim(datetime(2008,6,1), datetime(2020,8,31))\n",
    "ax.set_xticklabels(np.arange(2008,2022,2).tolist(),fontsize=24,fontweight='bold')\n",
    "ax.set_yticklabels(np.arange(0,120,20),fontsize=24,fontweight='bold')\n",
    "ax.legend(['ASI', 'RSAT-2', 'CIS'], fontsize=22, loc='upper center', ncol=3)\n",
    "ax.set_ylabel('SIC (%)', fontsize=24, fontweight='bold')"
   ]
  },
  {
   "cell_type": "markdown",
   "metadata": {},
   "source": [
    "<center><img src=\"../../Data/figures/Figure8.png\" height=\"500px\"></center>\n",
    "\n",
    "<center>Figure 8. Timeseries of weekly SIC for all of Coronation Gulf from the CIS regional charts, ASI passive microwave product and output of the RSAT-2 images using the 4-band input CNN model. The values are valid on the Monday for each week. The ASI and RSAT-2 products consist of weekly pixel average.</center>"
   ]
  },
  {
   "cell_type": "markdown",
   "metadata": {},
   "source": [
    "## Results: Mean bias and RMSE between the RSAT-2/ASI products and the CIS charts as reference"
   ]
  },
  {
   "cell_type": "code",
   "execution_count": null,
   "metadata": {},
   "outputs": [],
   "source": [
    "bias_r2=np.array([])\n",
    "bias_asi=np.array([])\n",
    "\n",
    "for i in range(len(cis)):\n",
    "    \n",
    "    date=pd.to_datetime(cis.iloc[i]['Date'])\n",
    "    sic= cis.iloc[i]['SIC']\n",
    "    \n",
    "    bias_r2=np.append(bias_r2,(r2[pd.to_datetime(r2['Date (YYYY-MM-DD)'])==date]['Mean Ice Concentration (%)']-sic).values)\n",
    "    bias_asi=np.append(bias_asi,(asi[pd.to_datetime(asi['Date (YYYY-MM-DD)'])==date]['Mean Ice Concentration (%)']-sic).values)\n",
    "\n",
    "print('RSAT-2 bias (%): ' + str(np.nanmean(bias_r2)))\n",
    "print('ASI bias (%): ' + str(np.nanmean(bias_asi)))\n",
    "print('RSAT-2 RMSE (%): ' + str(np.sqrt(np.nanmean(bias_r2**2))))\n",
    "print('ASI RMSE (%): ' + str(np.sqrt(np.nanmean(bias_asi**2))))"
   ]
  },
  {
   "cell_type": "markdown",
   "metadata": {},
   "source": [
    "RSAT-2 bias (%): -0.4021337816085189<br>\n",
    "ASI bias (%): -4.039268046759609<br>\n",
    "RSAT-2 RMSE (%): 8.412943190250207<br>\n",
    "ASI RMSE (%): 10.815901848767634"
   ]
  },
  {
   "cell_type": "markdown",
   "metadata": {},
   "source": [
    "## Figure: Monthly bias distribution for the ASI SIC and RSAT-2 products"
   ]
  },
  {
   "cell_type": "code",
   "execution_count": null,
   "metadata": {
    "scrolled": false
   },
   "outputs": [],
   "source": [
    "fig1, ax1=plt.subplots(figsize=(15,10))\n",
    "\n",
    "data1=[]\n",
    "data2=[]\n",
    "\n",
    "for i in range(1,13):\n",
    "\n",
    "    data1.append(bias_r2[(np.isnan(bias_r2)==0) & (cis['Date'].iloc[1:].dt.month==i)])\n",
    "    data2.append(bias_asi[(np.isnan(bias_asi)==0) & (cis['Date'].dt.month==i)])\n",
    "    \n",
    "bp1 = ax1.boxplot(data1, whis = [5, 95], sym='',patch_artist = True, \n",
    "                     widths = 0.3, positions = np.arange(0.8, 12, 1))\n",
    "for box in bp1['boxes']:\n",
    "    box.set(facecolor = 'darkred')\n",
    "bp2 = ax1.boxplot(data2, whis = [5, 95], sym='',patch_artist = True,\n",
    "                     widths = 0.3, positions = np.arange(1.2, 13, 1))\n",
    "for box in bp2['boxes']:\n",
    "    box.set(facecolor = 'teal')\n",
    "ax1.plot([0,13],[0,0],'-k')\n",
    "ax1.set_xlim(0,13)\n",
    "ax1.set_ylim(-50,50)\n",
    "ax1.set_xticks(np.arange(1, 13,1))\n",
    "ax1.set_xticklabels(np.arange(1,13).tolist(),fontsize=22,fontweight='bold')\n",
    "ax1.set_yticklabels(np.arange(-60,50,20).tolist(),fontsize=22,fontweight='bold')\n",
    "ax1.set_xlabel('Month',fontsize=26,fontweight='bold')\n",
    "ax1.set_ylabel('Bias (%)',fontsize=26,fontweight='bold')\n",
    "ax1.legend([bp1[\"boxes\"][0], bp2[\"boxes\"][0]], ['RSAT-2', 'ASI'], loc='upper right', fontsize=26)\n",
    "\n",
    "\n"
   ]
  },
  {
   "cell_type": "markdown",
   "metadata": {},
   "source": [
    "<center><img src=\"../../Data/figures/Figure9.png\" height=\"500px\"></center>\n",
    "\n",
    "<center>Figure 9. Box plot of the weekly SIC biases from Figure 8 for each month for the entire time series. The CIS charts were taken as reference for the bias calculation.</center>"
   ]
  }
 ],
 "metadata": {
  "kernelspec": {
   "display_name": "Python 3",
   "language": "python",
   "name": "python3"
  },
  "language_info": {
   "codemirror_mode": {
    "name": "ipython",
    "version": 3
   },
   "file_extension": ".py",
   "mimetype": "text/x-python",
   "name": "python",
   "nbconvert_exporter": "python",
   "pygments_lexer": "ipython3",
   "version": "3.6.7"
  }
 },
 "nbformat": 4,
 "nbformat_minor": 2
}
