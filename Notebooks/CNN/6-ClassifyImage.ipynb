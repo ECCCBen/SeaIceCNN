{
 "cells": [
  {
   "cell_type": "markdown",
   "metadata": {},
   "source": [
    "# Takes ARD image products and uses the CNN model to classify into ice/water"
   ]
  },
  {
   "cell_type": "code",
   "execution_count": null,
   "metadata": {},
   "outputs": [],
   "source": [
    "from os import listdir\n",
    "\n",
    "#Identifying the input directory\n",
    "indir = r'../../data'\n",
    "\n",
    "files = [f for f in listdir(indir) if f.startswith('S0') and f.endswith('.tif')]\n",
    "\n",
    "print(files)"
   ]
  },
  {
   "cell_type": "code",
   "execution_count": null,
   "metadata": {},
   "outputs": [],
   "source": [
    "import gdal\n",
    "import numpy as np\n",
    "from tensorflow.keras.models import load_model\n",
    "import pandas as pd\n",
    "\n",
    "#Loading classifier model\n",
    "classifier = load_model(r'../../data/SeaIceCNN.h5')\n",
    "\n",
    "#Selecting the number of bands to use for the classification\n",
    "numbands = 4\n",
    "\n",
    "#Loading the image normalization information\n",
    "df = pd.read_pickle(r\"../../data/means_stds_S0_cnn.pkl\")\n",
    "print(df.means.values)\n",
    "print(df.stds.values)"
   ]
  },
  {
   "cell_type": "code",
   "execution_count": null,
   "metadata": {},
   "outputs": [],
   "source": [
    "#Function to resample the different bands into N x N subsamples\n",
    "def resamp(arr, N):\n",
    "    A = []\n",
    "    for v in np.vsplit(arr, arr.shape[0] // N):\n",
    "        A.extend([*np.hsplit(v, arr.shape[1] // N)])\n",
    "    return np.array(A)"
   ]
  },
  {
   "cell_type": "code",
   "execution_count": null,
   "metadata": {},
   "outputs": [],
   "source": [
    "import time\n",
    "from os.path import join\n",
    "\n",
    "#Identifying the output dir\n",
    "outdir = r'../../data'\n",
    "\n",
    "numpix = 20\n",
    "\n",
    "for image in files:\n",
    "    \n",
    "    tic = time.clock()\n",
    "    \n",
    "    print('Processing file: ' + image + ' ...')\n",
    "    \n",
    "    #Reading the processed image\n",
    "    ras = gdal.Open(indir + '/' + image)\n",
    "    x = ras.RasterXSize\n",
    "    y = ras.RasterYSize\n",
    "    \n",
    "    #Creating a temporary array\n",
    "    temp_array = np.empty([int(int(x/numpix)*int(y/numpix)),numpix,numpix,numbands])\n",
    "\n",
    "    #Subsampling the image by band\n",
    "    for k in np.arange(numbands):\n",
    "\n",
    "        #Getting the band from the image\n",
    "        temp_array2 = ras.GetRasterBand(int(k+1)).ReadAsArray(0, 0, \n",
    "                                                              int(int(x/numpix) * numpix), \n",
    "                                                              int(int(y/numpix) * numpix))\n",
    "        #Resampling the band into 20 x 20 subsamples\n",
    "        temp_array[:,:,:,k] = resamp(temp_array2, numpix)\n",
    "\n",
    "        del temp_array2\n",
    "\n",
    "    #Initiating an empty list of indices to remove NoData subsamples\n",
    "    idx = []\n",
    "\n",
    "    #Finding the NoData subsamples\n",
    "    for i in np.arange(len(temp_array)):\n",
    "        if (~np.isnan(temp_array[i,:,:,0]).any() and \n",
    "            ~np.isnan(temp_array[i,:,:,1]).any() and \n",
    "            ~np.any(temp_array[i,:,:,0]==-90) and \n",
    "            ~np.any(temp_array[i,:,:,1]==-90)):\n",
    "            idx.append(i)\n",
    "\n",
    "    #Removing the NoData subsamples\n",
    "    temp_array = temp_array[idx, :, :, :]\n",
    "    \n",
    "    #Normalizing the image\n",
    "    for i in np.arange(numbands):\n",
    "        \n",
    "        temp_array[:,:,:,i] = ((temp_array[:,:,:,i] - df.means.iloc[i]) / df.stds.iloc[i]).astype(np.float64)\n",
    "\n",
    "    #Classifying the image\n",
    "    Y = classifier.predict(temp_array)\n",
    "    \n",
    "    Y2 = np.zeros([y,x], dtype = np.float32)\n",
    "    Y2[:,:] = np.nan\n",
    "    \n",
    "    l = 0\n",
    "    \n",
    "    #Reconstructing the classified image\n",
    "    for k in idx:\n",
    "        \n",
    "        i = int(np.floor(k/int(x/numpix)))\n",
    "        j = int(k-i*int(x/numpix))\n",
    "        \n",
    "        Y2[int(i*numpix):int(i*numpix)+numpix, int(j*numpix):int(j*numpix)+numpix] = Y[l]\n",
    "        \n",
    "        l+=1\n",
    "    \n",
    "    #Saving the classified image in a GeoTIFF\n",
    "    driver = gdal.GetDriverByName('GTiff')\n",
    "    driver.Register()\n",
    "\n",
    "    outDataset = driver.Create(join(outdir, image), x, y, 1, gdal.GDT_Float32)\n",
    "\n",
    "    geoTransform = ras.GetGeoTransform()\n",
    "    outDataset.SetGeoTransform(geoTransform)\n",
    "    proj = ras.GetProjection()\n",
    "    outDataset.SetProjection(proj)\n",
    "\n",
    "    outband = outDataset.GetRasterBand(1)\n",
    "    outband.WriteArray(Y2, 0, 0)\n",
    "\n",
    "    outband= None\n",
    "    outDataset = None\n",
    "    driver = None\n",
    "    ras = None\n",
    "    y = None\n",
    "    x = None\n",
    "    X = None\n",
    "    Y2 = None\n",
    "\n",
    "    del outband, outDataset, driver, ras, x, y, X, Y2, proj, geoTransform\n",
    "    \n",
    "    toc = time.clock()\n",
    "\n",
    "    print('Processing took: ' + str(toc-tic) + ' seconds')"
   ]
  },
  {
   "cell_type": "markdown",
   "metadata": {},
   "source": [
    "# Displaying the output"
   ]
  },
  {
   "cell_type": "code",
   "execution_count": null,
   "metadata": {},
   "outputs": [],
   "source": [
    "from matplotlib import pyplot as plt\n",
    "\n",
    "ras = gdal.Open(indir + '/' + image)\n",
    "classes = ras.GetRasterBand(1).ReadAsArray()"
   ]
  },
  {
   "cell_type": "code",
   "execution_count": null,
   "metadata": {},
   "outputs": [],
   "source": [
    "fig, ax = plt.subplots(figsize=(15,15))\n",
    "\n",
    "cmap = plt.get_cmap('winter',2).reversed()\n",
    "\n",
    "fig1 = ax.imshow(classes, cmap=cmap)\n",
    "cbar = fig.colorbar(fig1, ticks=[0.25, 0.75])\n",
    "cbar.ax.set_yticklabels(['Ice', 'Water'])\n",
    "fig.savefig(r'../../data/figures/ExampleCNNClassified.png')"
   ]
  },
  {
   "cell_type": "markdown",
   "metadata": {},
   "source": [
    "<center><img src=\"../../Data/figures/ExampleCNNClassified.png\" height=\"400px\"></center>\n",
    "\n",
    "<center>Figure: Example of Classified RSAT-2 image by trained CNN</center>"
   ]
  },
  {
   "cell_type": "code",
   "execution_count": null,
   "metadata": {},
   "outputs": [],
   "source": [
    "vals = classes[np.isnan(classes)==0]\n",
    "acc = len(vals[vals<=0.5])/len(vals) * 100\n",
    "print('Overall image accuracy is ' + \"{:.2f}\".format(acc) + '%')"
   ]
  },
  {
   "cell_type": "markdown",
   "metadata": {},
   "source": [
    "Overall image accuracy is 98.57%"
   ]
  }
 ],
 "metadata": {
  "kernelspec": {
   "display_name": "Python 3",
   "language": "python",
   "name": "python3"
  },
  "language_info": {
   "codemirror_mode": {
    "name": "ipython",
    "version": 3
   },
   "file_extension": ".py",
   "mimetype": "text/x-python",
   "name": "python",
   "nbconvert_exporter": "python",
   "pygments_lexer": "ipython3",
   "version": "3.6.7"
  }
 },
 "nbformat": 4,
 "nbformat_minor": 2
}
