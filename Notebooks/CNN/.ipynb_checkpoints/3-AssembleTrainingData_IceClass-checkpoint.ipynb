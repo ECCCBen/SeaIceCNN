{
 "cells": [
  {
   "cell_type": "markdown",
   "metadata": {},
   "source": [
    "# Read all the files in \"ice\" subfolder and creates a huge 4D numpy array to train the CNN model"
   ]
  },
  {
   "cell_type": "code",
   "execution_count": null,
   "metadata": {},
   "outputs": [],
   "source": [
    "from os import listdir\n",
    "\n",
    "#Initiating the input directory\n",
    "indir = r'../../data\\ice'\n",
    "\n",
    "#Finding all the processed geotiffs in the input directory\n",
    "files = [f for f in listdir(indir) if f.startswith('S0_RS2') and f.endswith('.tif')]\n",
    "\n",
    "#Prints out the number of files to filter\n",
    "print('There are ' + str(len(files)) + ' files to filter...')"
   ]
  },
  {
   "cell_type": "code",
   "execution_count": null,
   "metadata": {},
   "outputs": [],
   "source": [
    "import numpy as np\n",
    "\n",
    "#Function to resample the different bands into N x N subsamples\n",
    "def resamp(arr, N):\n",
    "    A = []\n",
    "    for v in np.vsplit(arr, arr.shape[0] // N):\n",
    "        A.extend([*np.hsplit(v, arr.shape[1] // N)])\n",
    "    return np.array(A)"
   ]
  },
  {
   "cell_type": "code",
   "execution_count": null,
   "metadata": {},
   "outputs": [],
   "source": [
    "#Randomly selecting year for test dataset\n",
    "test_year = np.random.choice(np.arange(2011,2019)) #2019 is not included here since it was the original test year\n",
    "                                                   #2009 and 10 were excluded due to small amount of images for those years\n",
    "print(test_year)"
   ]
  },
  {
   "cell_type": "code",
   "execution_count": null,
   "metadata": {
    "scrolled": true
   },
   "outputs": [],
   "source": [
    "import gdal\n",
    "from os.path import join\n",
    "from datetime import datetime\n",
    "\n",
    "#Initiating the output training data directory\n",
    "outdir = r'../../data/ice'\n",
    "\n",
    "#Initiating which class to assemble (NOTE: This step is necessary due to the large amount of data the code has to hold in\n",
    "#memory)\n",
    "#Possible inputs: ['ice', 'water']\n",
    "cnn_class = 'ice'\n",
    "\n",
    "#Specifying the sample size, e.g. number of pixels\n",
    "numpix = 20\n",
    "\n",
    "#Specifying the number of bands\n",
    "numbands = 4\n",
    "\n",
    "#Initiating training data array\n",
    "trarray = np.empty([0,numpix,numpix,numbands], dtype=np.float16)\n",
    "\n",
    "#Start filtering all images\n",
    "for image in files:\n",
    "    year = int(image.split('_')[6][0:4])\n",
    "    month = int(image.split('_')[6][4:6])\n",
    "    day = int(image.split('_')[6][6:8])\n",
    "    \n",
    "    #Images from 2019-08-01 and beyond are kept for testing the CNN model\n",
    "    if (datetime(year,month,day) < datetime(test_year,8,1)) or (datetime(year,month,day) > datetime(test_year+1,8,1)):\n",
    "        \n",
    "        print('Adding ' + datetime(year,month,day).strftime(\"%m/%d/%Y\") + ' to the ice training data array')\n",
    "\n",
    "        #Reading the processed image\n",
    "        ras = gdal.Open(join(indir, image))\n",
    "        x = ras.RasterXSize\n",
    "        y = ras.RasterYSize\n",
    "\n",
    "        #Creating a temporary array\n",
    "        temp_array = np.empty([int(int(x/numpix)*int(y/numpix)),numpix,numpix,numbands])\n",
    "\n",
    "        #Subsampling the image by band\n",
    "        for k in np.arange(numbands):\n",
    "\n",
    "            #Getting the band from the image\n",
    "            temp_array2 = ras.GetRasterBand(int(k+1)).ReadAsArray(0, 0, \n",
    "                                                                  int(int(x/numpix) * numpix), \n",
    "                                                                  int(int(y/numpix) * numpix))\n",
    "            #Resampling the band into 20 x 20 subsamples\n",
    "            temp_array[:,:,:,k] = resamp(temp_array2, numpix)\n",
    "\n",
    "            del temp_array2\n",
    "\n",
    "        #Initiating an empty list of indices to remove NoData subsamples\n",
    "        idx = []\n",
    "\n",
    "        #Finding the NoData subsamples\n",
    "        for i in np.arange(len(temp_array)):\n",
    "            if (~np.isnan(temp_array[i,:,:,0]).any() and \n",
    "                ~np.isnan(temp_array[i,:,:,1]).any() and \n",
    "                ~np.any(temp_array[i,:,:,0]==-90) and \n",
    "                ~np.any(temp_array[i,:,:,1]==-90)):\n",
    "                idx.append(i)\n",
    "\n",
    "        #Removing the NoData subsamples\n",
    "        temp_array = temp_array[idx, :, :, :]\n",
    "\n",
    "        #Appending the image temporary array to the final ice training data array\n",
    "        trarray = np.append(trarray, temp_array.astype(np.float16), axis=0)\n",
    "        del temp_array, ras, x, y\n",
    "\n",
    "#Saving the Training Data\n",
    "np.save(join(outdir, 'TrainingDataS0_' + cnn_class + '_rev.npy'), trarray)\n",
    "        "
   ]
  }
 ],
 "metadata": {
  "kernelspec": {
   "display_name": "Python 3",
   "language": "python",
   "name": "python3"
  },
  "language_info": {
   "codemirror_mode": {
    "name": "ipython",
    "version": 3
   },
   "file_extension": ".py",
   "mimetype": "text/x-python",
   "name": "python",
   "nbconvert_exporter": "python",
   "pygments_lexer": "ipython3",
   "version": "3.6.7"
  }
 },
 "nbformat": 4,
 "nbformat_minor": 2
}
