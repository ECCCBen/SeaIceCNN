{
 "cells": [
  {
   "cell_type": "markdown",
   "metadata": {},
   "source": [
    "# Preprocessing RADARSAT-2 ScanSAR Wide images to Analysis Ready Data for a Convolutional Neural Network"
   ]
  },
  {
   "cell_type": "markdown",
   "metadata": {},
   "source": [
    "This code is only an example on a single image to show all the different steps of the preprocessing and visualize the output image. The zip files of the images must all be saved under the \"data\" subfolder. The code will find all RS2 images from that subfolder and process them."
   ]
  },
  {
   "cell_type": "markdown",
   "metadata": {},
   "source": [
    "# Visualizing the uncalibrate RS2 image"
   ]
  },
  {
   "cell_type": "markdown",
   "metadata": {},
   "source": [
    "Library imports needed"
   ]
  },
  {
   "cell_type": "code",
   "execution_count": null,
   "metadata": {},
   "outputs": [],
   "source": [
    "import subprocess, gdal, zipfile, shutil, os\n",
    "from os.path import join\n",
    "import numpy as np\n",
    "import xml.etree.ElementTree as ET\n",
    "import scipy\n",
    "from scipy import signal\n",
    "from matplotlib import pyplot as plt"
   ]
  },
  {
   "cell_type": "markdown",
   "metadata": {},
   "source": [
    "Subfolder where the imagery is stored and the filename"
   ]
  },
  {
   "cell_type": "code",
   "execution_count": null,
   "metadata": {},
   "outputs": [],
   "source": [
    "zippath = r'../../data'\n",
    "img = [f for f in os.listdir(zippath) if f.startswith('RS2') and f.endswith('.zip')]\n",
    "img = img[0] # select only the first item of the list for this example notebook"
   ]
  },
  {
   "cell_type": "markdown",
   "metadata": {},
   "source": [
    "Unzipping the image product"
   ]
  },
  {
   "cell_type": "code",
   "execution_count": null,
   "metadata": {},
   "outputs": [],
   "source": [
    "im_zip = zipfile.ZipFile(os.path.join(zippath, img))\n",
    "im_zip.extractall(zippath)\n",
    "im_zip.close"
   ]
  },
  {
   "cell_type": "markdown",
   "metadata": {},
   "source": [
    "Using GDAL to read the RS2 image, the number of pixels in x/y and the HH/HV image bands"
   ]
  },
  {
   "cell_type": "code",
   "execution_count": null,
   "metadata": {},
   "outputs": [],
   "source": [
    "# Reads the RS2 image product with all of the georeferenced information\n",
    "ras = gdal.Open(join(zippath, img.strip('.zip'),'product.xml'))\n",
    "\n",
    "# Number of pixels in range\n",
    "x = ras.RasterXSize\n",
    "\n",
    "# Number of pixels in azimuth\n",
    "y = ras.RasterYSize\n",
    "\n",
    "# Read the HH band and stores it in a Numpy array\n",
    "hh = np.float32(ras.GetRasterBand(1).ReadAsArray())\n",
    "\n",
    "# Read the HV band and stores it in a Numpy array\n",
    "hv = np.float32(ras.GetRasterBand(2).ReadAsArray())"
   ]
  },
  {
   "cell_type": "markdown",
   "metadata": {},
   "source": [
    "Displays the 8-bit Digital Number values of both bands"
   ]
  },
  {
   "cell_type": "code",
   "execution_count": null,
   "metadata": {},
   "outputs": [],
   "source": [
    "# -*- coding: utf-8 -*-\n",
    "fig, ax = plt.subplots(1,2,figsize=(20,10))\n",
    "\n",
    "hh_plot = ax[0].imshow(hh)\n",
    "ax[0].set_title('HH (DN)')\n",
    "hv_plot = ax[1].imshow(hv)\n",
    "ax[1].set_title('HV (DN)')\n",
    "cbar = fig.colorbar(hh_plot, ax=ax.ravel().tolist(), shrink=0.6)\n",
    "cbar.set_label('Gray Scale Digital Number')\n",
    "ax[0].text(0,y-100,\n",
    "           'RADARSAT-2 Data and Products \\xa9 MacDONALD, DETTWILER and \\n ASSOCIATES LTD (2023) - '+ \n",
    "           'All Rights Reserved\" and \" RADARSAT \\n is an official mark of the Canadian Space Agency')\n",
    "ax[1].text(0,y-100,\n",
    "           'RADARSAT-2 Data and Products \\xa9 MacDONALD, DETTWILER and \\n ASSOCIATES LTD (2023) - '+ \n",
    "           'All Rights Reserved\" and \" RADARSAT \\n is an official mark of the Canadian Space Agency')\n",
    "fig.savefig(r'../../data/figures/RS2_DNimages.png')"
   ]
  },
  {
   "cell_type": "markdown",
   "metadata": {},
   "source": [
    "<center><img src=\"../../data/figures/RS2_DNimages.png\" height=\"500px\"></center>\n",
    "\n",
    "<center>Figure: RS2 image (8-bit digital number)</center>"
   ]
  },
  {
   "cell_type": "markdown",
   "metadata": {},
   "source": [
    "Read the Look Up Table information xml file to calibrate the image into sigma-nought"
   ]
  },
  {
   "cell_type": "code",
   "execution_count": null,
   "metadata": {},
   "outputs": [],
   "source": [
    "tree = ET.parse(join(zippath, img.strip('.zip'),'lutSigma.xml'))\n",
    "root = tree.getroot()\n",
    "gains = np.float32(np.array(root.find('gains').text.split(' ')))"
   ]
  },
  {
   "cell_type": "markdown",
   "metadata": {},
   "source": [
    "Read the RS2 image product metadata file to extract the incidence angle and Noise Equivalent Sigma Zero (NESZ) information"
   ]
  },
  {
   "cell_type": "code",
   "execution_count": null,
   "metadata": {},
   "outputs": [],
   "source": [
    "tree = ET.parse(join(zippath, img.strip('.zip'),'product.xml'))\n",
    "root = tree.getroot()\n",
    "pref = root.tag.strip('product')\n",
    "nearang = np.float32(root.find(pref + 'imageGenerationParameters').find(pref + 'sarProcessingInformation').find(pref + 'incidenceAngleNearRange').text)\n",
    "farang = np.float32(root.find(pref + 'imageGenerationParameters').find(pref + 'sarProcessingInformation').find(pref + 'incidenceAngleFarRange').text)\n",
    "look = root.find(pref + 'sourceAttributes').find(pref + 'orbitAndAttitude').find(pref + 'orbitInformation').find(pref + 'passDirection').text\n",
    "\n",
    "for lut in root.iter(pref + 'referenceNoiseLevel'):\n",
    "\n",
    "    if lut.attrib['incidenceAngleCorrection'] == 'Sigma Nought':\n",
    "\n",
    "        steps = int(lut.findall('{http://www.rsi.ca/rs2/prod/xml/schemas}stepSize')[0].text)\n",
    "        first_value = int(lut.findall('{http://www.rsi.ca/rs2/prod/xml/schemas}pixelFirstNoiseValue')[0].text)\n",
    "        noise = np.array(lut.findall('{http://www.rsi.ca/rs2/prod/xml/schemas}noiseLevelValues')[0].text.split(' '),np.float32)\n",
    "\n",
    "gains_temp = np.zeros(x, np.float32)\n",
    "gains_temp[first_value::steps] = np.power(10, noise/10)\n",
    "kernel = signal.triang(2*steps - 1)\n",
    "noisepat = 10 * np.log10(scipy.ndimage.filters.convolve(gains_temp, kernel, mode=\"constant\"))\n",
    "\n",
    "#Set the incidence angle in the right order\n",
    "if look == 'Ascending':\n",
    "\n",
    "    incang = np.interp(np.arange(x),[0,len(np.arange(x))-1],[nearang,farang])\n",
    "\n",
    "else:\n",
    "\n",
    "    incang = np.interp(np.arange(x),[0,len(np.arange(x))-1],[farang,nearang])"
   ]
  },
  {
   "cell_type": "markdown",
   "metadata": {},
   "source": [
    "Plots the incidence angle and NESZ information in the range direction"
   ]
  },
  {
   "cell_type": "code",
   "execution_count": null,
   "metadata": {},
   "outputs": [],
   "source": [
    "fig, ax1 = plt.subplots()\n",
    "\n",
    "ax1.plot(incang)\n",
    "ax1.set_ylabel('Incidence Angle')\n",
    "ax1.set_xlabel('Range pixel')\n",
    "\n",
    "ax2 = ax1.twinx()\n",
    "ax2.plot(noisepat,'C1')\n",
    "ax2.set_ylabel('NESZ (dB)')\n",
    "fig.savefig('../../data/figures/AngNESZ.png')"
   ]
  },
  {
   "cell_type": "markdown",
   "metadata": {},
   "source": [
    "<center><img src=\"../../data/figures/AngNESZ.png\" height=\"500px\"></center>\n",
    "\n",
    "<center>Figure: Incidence Angles and NESZ values with image range</center>"
   ]
  },
  {
   "cell_type": "markdown",
   "metadata": {},
   "source": [
    "Initiate the incidence angle and NESZ arrays to include in the imagery"
   ]
  },
  {
   "cell_type": "code",
   "execution_count": null,
   "metadata": {},
   "outputs": [],
   "source": [
    "incangs = np.zeros([y,x], dtype = np.float32)\n",
    "noiseimg = np.zeros([y,x], dtype = np.float32)"
   ]
  },
  {
   "cell_type": "markdown",
   "metadata": {},
   "source": [
    "Calibrate the HH/HV bands into sigma-nought and populates the incidence angles and NESZ images (constants in azimuth)"
   ]
  },
  {
   "cell_type": "code",
   "execution_count": null,
   "metadata": {},
   "outputs": [],
   "source": [
    "for i in np.arange(y):\n",
    "\n",
    "    hh[i,] = np.true_divide(hh[i,]**2, gains)\n",
    "    hv[i,] = np.true_divide(hv[i,]**2, gains)\n",
    "    incangs[i,] = incang\n",
    "    noiseimg[i,] = noisepat"
   ]
  },
  {
   "cell_type": "markdown",
   "metadata": {},
   "source": [
    "Display the calibrated HH/Hv bands in linear units and the incidence angles and NESZ bands"
   ]
  },
  {
   "cell_type": "code",
   "execution_count": null,
   "metadata": {},
   "outputs": [],
   "source": [
    "fig, ax = plt.subplots(2,2,figsize=(20,10))\n",
    "\n",
    "hh_plot = ax[0,0].imshow(hh, vmin=0, vmax=0.1)\n",
    "ax[0,0].set_title('HH intensity (linear units)')\n",
    "fig.colorbar(hh_plot, ax=ax[0,0])\n",
    "hv_plot = ax[0,1].imshow(hv, vmin=0, vmax=0.1)\n",
    "ax[0,1].set_title('HV intensity (linear units)')\n",
    "fig.colorbar(hv_plot, ax=ax[0,1])\n",
    "ang_plot = ax[1,0].imshow(incangs)\n",
    "ax[1,0].set_title('Incidence angle (degrees)')\n",
    "fig.colorbar(ang_plot, ax=ax[1,0])\n",
    "noise_plot = ax[1,1].imshow(noiseimg, vmin=-30, vmax=-10)\n",
    "ax[1,1].set_title('NESZ (dB)')\n",
    "fig.colorbar(noise_plot, ax=ax[1,1])\n",
    "\n",
    "ax[0,0].text(0,y-100,\n",
    "           'RADARSAT-2 Data and Products \\xa9 MacDONALD, \\n DETTWILER and ASSOCIATES LTD (2023) - '+ \n",
    "           'All \\n Rights Reserved\" and \" RADARSAT is an official \\n mark of the Canadian Space Agency')\n",
    "ax[0,1].text(0,y-100,\n",
    "           'RADARSAT-2 Data and Products \\xa9 MacDONALD, \\n DETTWILER and ASSOCIATES LTD (2023) - '+ \n",
    "           'All \\n Rights Reserved\" and \" RADARSAT is an official \\n mark of the Canadian Space Agency')\n",
    "ax[1,0].text(0,y-100,\n",
    "           'RADARSAT-2 Data and Products \\xa9 MacDONALD, \\n DETTWILER and ASSOCIATES LTD (2023) - '+ \n",
    "           'All \\n Rights Reserved\" and \" RADARSAT is an official \\n mark of the Canadian Space Agency')\n",
    "ax[1,1].text(0,y-100,\n",
    "           'RADARSAT-2 Data and Products \\xa9 MacDONALD, \\n DETTWILER and ASSOCIATES LTD (2023) - '+ \n",
    "           'All \\n Rights Reserved\" and \" RADARSAT is an official \\n mark of the Canadian Space Agency')\n",
    "fig.savefig(r'../../data/figures/RS2_LUimages.png')"
   ]
  },
  {
   "cell_type": "markdown",
   "metadata": {},
   "source": [
    "<center><img src=\"../../data/figures/RS2_LUimages.png\" height=\"500px\"></center>\n",
    "\n",
    "<center>Figure: RS2 image (in linear units)</center>"
   ]
  },
  {
   "cell_type": "markdown",
   "metadata": {},
   "source": [
    "Convert the linear units into decibels (zero values are changes to 1e-9 since log(0)=inf)"
   ]
  },
  {
   "cell_type": "code",
   "execution_count": null,
   "metadata": {},
   "outputs": [],
   "source": [
    "hh[hh<=0] = 1E-9    \n",
    "hv[hv<=0] = 1E-9"
   ]
  },
  {
   "cell_type": "code",
   "execution_count": null,
   "metadata": {},
   "outputs": [],
   "source": [
    "hh = 10*np.log10(hh)\n",
    "hv = 10*np.log10(hv)"
   ]
  },
  {
   "cell_type": "markdown",
   "metadata": {},
   "source": [
    "Same as previous figure but in decibels for HH/HV"
   ]
  },
  {
   "cell_type": "code",
   "execution_count": null,
   "metadata": {},
   "outputs": [],
   "source": [
    "fig, ax = plt.subplots(2,2,figsize=(20,10))\n",
    "\n",
    "hh_plot = ax[0,0].imshow(hh, vmin=-30, vmax=-10)\n",
    "ax[0,0].set_title('HH intensity (dB)')\n",
    "fig.colorbar(hh_plot, ax=ax[0,0])\n",
    "hv_plot = ax[0,1].imshow(hv, vmin=-30, vmax=-10)\n",
    "ax[0,1].set_title('HV intensity (dB)')\n",
    "fig.colorbar(hv_plot, ax=ax[0,1])\n",
    "ang_plot = ax[1,0].imshow(incangs)\n",
    "ax[1,0].set_title('Incidence angle (degrees)')\n",
    "fig.colorbar(ang_plot, ax=ax[1,0])\n",
    "noise_plot = ax[1,1].imshow(noiseimg, vmin=-30, vmax=-10)\n",
    "ax[1,1].set_title('NESZ (dB)')\n",
    "fig.colorbar(noise_plot, ax=ax[1,1])\n",
    "\n",
    "ax[0,0].text(0,y-100,\n",
    "           'RADARSAT-2 Data and Products \\xa9 MacDONALD, \\n DETTWILER and ASSOCIATES LTD (2023) - '+ \n",
    "           'All \\n Rights Reserved\" and \" RADARSAT is an official \\n mark of the Canadian Space Agency')\n",
    "ax[0,1].text(0,y-100,\n",
    "           'RADARSAT-2 Data and Products \\xa9 MacDONALD, \\n DETTWILER and ASSOCIATES LTD (2023) - '+ \n",
    "           'All \\n Rights Reserved\" and \" RADARSAT is an official \\n mark of the Canadian Space Agency')\n",
    "ax[1,0].text(0,y-100,\n",
    "           'RADARSAT-2 Data and Products \\xa9 MacDONALD, \\n DETTWILER and ASSOCIATES LTD (2023) - '+ \n",
    "           'All \\n Rights Reserved\" and \" RADARSAT is an official \\n mark of the Canadian Space Agency')\n",
    "ax[1,1].text(0,y-100,\n",
    "           'RADARSAT-2 Data and Products \\xa9 MacDONALD, \\n DETTWILER and ASSOCIATES LTD (2023) - '+ \n",
    "           'All \\n Rights Reserved\" and \" RADARSAT is an official \\n mark of the Canadian Space Agency')\n",
    "fig.savefig(r'../../data/figures/RS2_dBimages.png')"
   ]
  },
  {
   "cell_type": "markdown",
   "metadata": {},
   "source": [
    "<center><img src=\"../../data/figures/RS2_dBimages.png\" height=\"500px\"></center>\n",
    "\n",
    "<center>Figure: RS2 image (in dB)</center>"
   ]
  },
  {
   "cell_type": "markdown",
   "metadata": {},
   "source": [
    "# Creation of the calibrated image with the 4 bands as a georeferenced tiff"
   ]
  },
  {
   "cell_type": "markdown",
   "metadata": {},
   "source": [
    "Initialization of the image"
   ]
  },
  {
   "cell_type": "code",
   "execution_count": null,
   "metadata": {},
   "outputs": [],
   "source": [
    "outfile2 = 'calib_' + img.strip('.zip') + '.tif'\n",
    "driver = gdal.GetDriverByName('GTiff')\n",
    "driver.Register()\n",
    "#Create the image with the GTiff driver, with the same x/y dimension as the initial image, with 4 float32 bands\n",
    "outDataset = driver.Create(outfile2, x, y, 4, gdal.GDT_Float32)"
   ]
  },
  {
   "cell_type": "markdown",
   "metadata": {},
   "source": [
    "Copies the georeference information of the initial image to the new image"
   ]
  },
  {
   "cell_type": "code",
   "execution_count": null,
   "metadata": {},
   "outputs": [],
   "source": [
    "geoTransform = ras.GetGeoTransform()\n",
    "outDataset.SetGeoTransform(geoTransform)\n",
    "gcps = ras.GetGCPs()\n",
    "gcpproj = ras.GetGCPProjection()\n",
    "proj = ras.GetProjection()\n",
    "outDataset.SetProjection(proj)\n",
    "outDataset.SetGCPs(gcps, gcpproj)"
   ]
  },
  {
   "cell_type": "markdown",
   "metadata": {},
   "source": [
    "Saves the four bands into the new image"
   ]
  },
  {
   "cell_type": "code",
   "execution_count": null,
   "metadata": {},
   "outputs": [],
   "source": [
    "outhh = outDataset.GetRasterBand(1)\n",
    "outhh.WriteArray(hh, 0, 0)\n",
    "\n",
    "#Write HV band\n",
    "outhv = outDataset.GetRasterBand(2)\n",
    "outhv.WriteArray(hv, 0, 0)\n",
    "\n",
    "#Write incidence angle band\n",
    "outang = outDataset.GetRasterBand(3)\n",
    "outang.WriteArray(incangs, 0, 0)\n",
    "\n",
    "#Write incidence angle band\n",
    "outnoise = outDataset.GetRasterBand(4)\n",
    "outnoise.WriteArray(noiseimg, 0, 0)"
   ]
  },
  {
   "cell_type": "markdown",
   "metadata": {},
   "source": [
    "Clears all the new image information \n",
    "\n",
    "**NOTE: this is required in order for the image to be saved and usuable outside this python environment"
   ]
  },
  {
   "cell_type": "code",
   "execution_count": null,
   "metadata": {},
   "outputs": [],
   "source": [
    "outhh = None\n",
    "outhv = None\n",
    "outang = None\n",
    "outnoise = None\n",
    "outDataset = None\n",
    "driver = None\n",
    "proj = None\n",
    "geoTransform = None\n",
    "gcps = None\n",
    "gcpproj = None\n",
    "ras = None\n",
    "\n",
    "del outhh, outhv, outang, outnoise, outDataset, driver, proj, geoTransform"
   ]
  },
  {
   "cell_type": "markdown",
   "metadata": {},
   "source": [
    "Takes the calibrated image product, clips it to the Coronation Gulf marine region and resamples it to a 50x50m grid to the NSIDC EASE-Grid North grid (EPSG:6931)\n",
    "\n",
    "**This part could be done differently where the calibrated image is no longer saved on the hard drive but kept in memory and only the clipped file is saved to hard drive"
   ]
  },
  {
   "cell_type": "code",
   "execution_count": null,
   "metadata": {},
   "outputs": [],
   "source": [
    "outfile3 = 'S0_' + img.strip('.zip') + '.tif'\n",
    "subprocess.call('gdalwarp -t_srs EPSG:6931 -srcnodata None -dstnodata NaN -overwrite -cutline Data\\Coronation_simple.shp -crop_to_cutline -tr 50 50 -tap ' + outfile2 + ' ' + outfile3)"
   ]
  },
  {
   "cell_type": "markdown",
   "metadata": {},
   "source": [
    "Deletes the calibrated image and remove the unzipped folder from the original product"
   ]
  },
  {
   "cell_type": "code",
   "execution_count": null,
   "metadata": {},
   "outputs": [],
   "source": [
    "os.remove(outfile2)\n",
    "\n",
    "del outfile2, ras, gains, root, tree, hh, hv, x, y, gcps, gcpproj, nearang, farang, incang, incangs, look\n",
    "\n",
    "shutil.rmtree(os.path.join(zippath, img.strip('.zip')))"
   ]
  },
  {
   "cell_type": "markdown",
   "metadata": {},
   "source": [
    "# Displaying the final image product"
   ]
  },
  {
   "cell_type": "markdown",
   "metadata": {},
   "source": [
    "Reading the image using GDAL"
   ]
  },
  {
   "cell_type": "code",
   "execution_count": null,
   "metadata": {},
   "outputs": [],
   "source": [
    "ras2 = gdal.Open(outfile3)\n",
    "x = ras2.RasterXSize\n",
    "y = ras2.RasterYSize\n",
    "hh = np.float32(ras2.GetRasterBand(1).ReadAsArray())\n",
    "hv = np.float32(ras2.GetRasterBand(2).ReadAsArray())\n",
    "ang = np.float32(ras2.GetRasterBand(3).ReadAsArray())\n",
    "noise = np.float32(ras2.GetRasterBand(4).ReadAsArray())"
   ]
  },
  {
   "cell_type": "markdown",
   "metadata": {},
   "source": [
    "Display the four bands of the final output"
   ]
  },
  {
   "cell_type": "code",
   "execution_count": null,
   "metadata": {},
   "outputs": [],
   "source": [
    "fig, ax = plt.subplots(2,2,figsize=(20,10))\n",
    "\n",
    "hh_plot = ax[0,0].imshow(hh, vmin=-30, vmax=-10)\n",
    "ax[0,0].set_title('HH intensity (dB)')\n",
    "fig.colorbar(hh_plot, ax=ax[0,0])\n",
    "hv_plot = ax[0,1].imshow(hv, vmin=-30, vmax=-10)\n",
    "ax[0,1].set_title('HV intensity (dB)')\n",
    "fig.colorbar(hv_plot, ax=ax[0,1])\n",
    "ang_plot = ax[1,0].imshow(ang)\n",
    "ax[1,0].set_title('Incidence angle (degrees)')\n",
    "fig.colorbar(ang_plot, ax=ax[1,0])\n",
    "noise_plot = ax[1,1].imshow(noise, vmin=-30, vmax=-10)\n",
    "ax[1,1].set_title('NESZ (dB)')\n",
    "fig.colorbar(noise_plot, ax=ax[1,1])\n",
    "\n",
    "ax[0,0].text(0,y-100,\n",
    "           'RADARSAT-2 Data and Products \\xa9 \\n MacDONALD, DETTWILER and ASSOCIATES \\n LTD (2023) - '+ \n",
    "           'All Rights Reserved\" and \" \\n RADARSAT is an official mark of the \\n Canadian Space Agency',\n",
    "            fontsize=6)\n",
    "ax[0,1].text(0,y-100,\n",
    "           'RADARSAT-2 Data and Products \\xa9 \\n MacDONALD, DETTWILER and ASSOCIATES \\n LTD (2023) - '+ \n",
    "           'All Rights Reserved\" and \" \\n RADARSAT is an official mark of the \\n Canadian Space Agency',\n",
    "            fontsize=6)\n",
    "ax[1,0].text(0,y-100,\n",
    "           'RADARSAT-2 Data and Products \\xa9 \\n MacDONALD, DETTWILER and ASSOCIATES \\n LTD (2023) - '+ \n",
    "           'All Rights Reserved\" and \" \\n RADARSAT is an official mark of the \\n Canadian Space Agency',\n",
    "            fontsize=6)\n",
    "ax[1,1].text(0,y-100,\n",
    "           'RADARSAT-2 Data and Products \\xa9 \\n MacDONALD, DETTWILER and ASSOCIATES \\n LTD (2023) - '+ \n",
    "           'All Rights Reserved\" and \" \\n RADARSAT is an official mark of the \\n Canadian Space Agency',\n",
    "            fontsize=6)\n",
    "fig.savefig(r'../../data/figures/RS2_ARDimages.png')"
   ]
  },
  {
   "cell_type": "markdown",
   "metadata": {},
   "source": [
    "<center><img src=\"../../data/figures/RS2_ARDimages.png\" width=\"1000px\"></center>\n",
    "\n",
    "<center>Figure: CNN ARD image</center>"
   ]
  }
 ],
 "metadata": {
  "kernelspec": {
   "display_name": "Python 3",
   "language": "python",
   "name": "python3"
  },
  "language_info": {
   "codemirror_mode": {
    "name": "ipython",
    "version": 3
   },
   "file_extension": ".py",
   "mimetype": "text/x-python",
   "name": "python",
   "nbconvert_exporter": "python",
   "pygments_lexer": "ipython3",
   "version": "3.6.7"
  }
 },
 "nbformat": 4,
 "nbformat_minor": 2
}
